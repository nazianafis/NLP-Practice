{
 "cells": [
  {
   "cell_type": "markdown",
   "metadata": {},
   "source": [
    "# Introduction to Indic NLP Library\n",
    "---\n",
    "---"
   ]
  },
  {
   "cell_type": "markdown",
   "metadata": {},
   "source": [
    "Let's have some hands-on experince using the Indic NLP Library. While the libraries discussed in the previous notebook work well for English, Indian languages sometimes requires additional handling in tasks such as tokenization, sentence-splitting, etc. "
   ]
  },
  {
   "cell_type": "markdown",
   "metadata": {},
   "source": [
    "More details can be found here https://github.com/anoopkunchukuttan/indic_nlp_library"
   ]
  },
  {
   "cell_type": "markdown",
   "metadata": {},
   "source": [
    "### Download IndicNLP Library resources"
   ]
  },
  {
   "cell_type": "code",
   "execution_count": 2,
   "metadata": {},
   "outputs": [
    {
     "name": "stdout",
     "output_type": "stream",
     "text": [
      "Cloning into 'indic_nlp_resources'...\n",
      "remote: Enumerating objects: 139, done.\u001b[K\n",
      "remote: Counting objects: 100% (13/13), done.\u001b[K\n",
      "remote: Compressing objects: 100% (13/13), done.\u001b[K\n",
      "remote: Total 139 (delta 2), reused 2 (delta 0), pack-reused 126\u001b[K\n",
      "Receiving objects: 100% (139/139), 149.77 MiB | 7.99 MiB/s, done.\n",
      "Resolving deltas: 100% (53/53), done.\n"
     ]
    }
   ],
   "source": [
    "!git clone https://github.com/anoopkunchukuttan/indic_nlp_resources.git"
   ]
  },
  {
   "cell_type": "markdown",
   "metadata": {},
   "source": [
    "Set-up the path to Indic NLP Resources folder"
   ]
  },
  {
   "cell_type": "markdown",
   "metadata": {},
   "source": [
    "### Initialize the Indic NLP library"
   ]
  },
  {
   "cell_type": "code",
   "execution_count": 44,
   "metadata": {},
   "outputs": [],
   "source": [
    "INDIC_NLP_RESOURCES=r\"./indic_nlp_resources/\""
   ]
  },
  {
   "cell_type": "code",
   "execution_count": 45,
   "metadata": {},
   "outputs": [],
   "source": [
    "import sys\n",
    "from indicnlp import common\n",
    "common.set_resources_path(INDIC_NLP_RESOURCES)"
   ]
  },
  {
   "cell_type": "code",
   "execution_count": 46,
   "metadata": {},
   "outputs": [],
   "source": [
    "from indicnlp import loader\n",
    "loader.load()"
   ]
  },
  {
   "cell_type": "markdown",
   "metadata": {},
   "source": [
    "Let's now try out some of the APIs provided by the library"
   ]
  },
  {
   "cell_type": "markdown",
   "metadata": {},
   "source": [
    "**NOTE:** Many APIs require us to provide the language we are working with. Language information is provided as a 2-letter ISO 639-1 codes. More details and the exact 2-letter code used can be found here https://en.wikipedia.org/wiki/List_of_ISO_639-1_codes\n",
    "\n",
    "Some languages do not have assigned 2-letter codes. The library uses the following two-letter codes for such languages:\n",
    "\n",
    " - Konkani : kK\n",
    " - Manipuri : mP\n",
    " - Bodo : bD"
   ]
  },
  {
   "cell_type": "markdown",
   "metadata": {},
   "source": [
    "---\n",
    "# Text Normalization"
   ]
  },
  {
   "cell_type": "markdown",
   "metadata": {},
   "source": [
    "Standardize the text written in Indic scripts. Some of the issues handled are\n",
    " - Non-spacing characters\n",
    " - Multiple representations of Nukta based characters\n",
    " - Multiple representations of two part dependent vowel signs\n",
    " - Typing inconsistencies: e.g. use of pipe (|) for poorna virama"
   ]
  },
  {
   "cell_type": "code",
   "execution_count": 47,
   "metadata": {},
   "outputs": [],
   "source": [
    "def normalize_text(input_text, normalizer):\n",
    "    output_text=normalizer.normalize(input_text)\n",
    "\n",
    "    print(input_text)\n",
    "    print()\n",
    "\n",
    "    print('Before normalization')\n",
    "    print(' '.join([ hex(ord(c)) for c in input_text ] ))\n",
    "    print('Length: {}'.format(len(input_text)))\n",
    "    print()    \n",
    "    print('After normalization')\n",
    "    print(' '.join([ hex(ord(c)) for c in output_text ] ))\n",
    "    print('Length: {}'.format(len(output_text)))    "
   ]
  },
  {
   "cell_type": "code",
   "execution_count": 48,
   "metadata": {},
   "outputs": [
    {
     "name": "stdout",
     "output_type": "stream",
     "text": [
      "क़ क़\n",
      "\n",
      "Before normalization\n",
      "0x958 0x20 0x915 0x93c\n",
      "Length: 4\n",
      "\n",
      "After normalization\n",
      "0x915 0x93c 0x20 0x915 0x93c\n",
      "Length: 5\n",
      "\n",
      "\n",
      "\n",
      "ख़ ख़\n",
      "\n",
      "Before normalization\n",
      "0x959 0x20 0x916 0x93c\n",
      "Length: 4\n",
      "\n",
      "After normalization\n",
      "0x916 0x93c 0x20 0x916 0x93c\n",
      "Length: 5\n"
     ]
    }
   ],
   "source": [
    "from indicnlp.normalize.indic_normalize import IndicNormalizerFactory\n",
    "\n",
    "factory=IndicNormalizerFactory()\n",
    "normalizer=factory.get_normalizer(\"hi\")\n",
    "\n",
    "# Reference for Hindi https://unicode.org/charts/PDF/U0900.pdf\n",
    "\n",
    "input_text=\"\\u0958 \\u0915\\u093c\"\n",
    "\n",
    "normalize_text( input_text, normalizer )\n",
    "\n",
    "print(\"\\n\\n\")\n",
    "\n",
    "input_text=\"\\u0959 \\u0916\\u093c\"\n",
    "\n",
    "normalize_text( input_text, normalizer )"
   ]
  },
  {
   "cell_type": "markdown",
   "metadata": {},
   "source": [
    "---\n",
    "# Sentence Splitter"
   ]
  },
  {
   "cell_type": "markdown",
   "metadata": {},
   "source": [
    "Rule-based system to split text into sentences"
   ]
  },
  {
   "cell_type": "code",
   "execution_count": 49,
   "metadata": {},
   "outputs": [
    {
     "name": "stdout",
     "output_type": "stream",
     "text": [
      "ज़िन्दगी के असली मजे उनके लिए नहीं हैं जो फूलों की छांह के नीचे खेलते और सोते हैं।\n",
      "बल्कि फूलों की छांह के नीचे अगर जीवन का कोई स्वाद छिपा है तो वह भी उन्हीं के लिए है जो दूर रेगिस्तान से आ रहे हैं जिनका कंठ सूखा हुआ, होंठ फटे हुए और सारा बदन पसीने से तर है।\n",
      "पानी में जो अमृत वाला तत्व है, उसे वह जनता है जो धूप में खूब सूख चूका है, वह नहीं जो रेगिस्तान में कभी पड़ा ही नहीं है।\n"
     ]
    }
   ],
   "source": [
    "from indicnlp.tokenize import sentence_tokenize\n",
    "\n",
    "indic_string=\"ज़िन्दगी के असली मजे उनके लिए नहीं हैं जो फूलों की छांह के नीचे खेलते और सोते हैं। बल्कि फूलों की छांह के नीचे अगर जीवन का कोई स्वाद छिपा है तो वह भी उन्हीं के लिए है जो दूर रेगिस्तान से आ रहे हैं जिनका कंठ सूखा हुआ, होंठ फटे हुए और सारा बदन पसीने से तर है। पानी में जो अमृत वाला तत्व है, उसे वह जनता है जो धूप में खूब सूख चूका है, वह नहीं जो रेगिस्तान में कभी पड़ा ही नहीं है।\"\n",
    "\n",
    "output_text = normalizer.normalize(indic_string)\n",
    "sentences=sentence_tokenize.sentence_split(output_text, lang='hi')\n",
    "for t in sentences:\n",
    "    print(t)"
   ]
  },
  {
   "cell_type": "code",
   "execution_count": 50,
   "metadata": {},
   "outputs": [
    {
     "name": "stdout",
     "output_type": "stream",
     "text": [
      "لوگوں سے ملتا تھا غم, میں سہہ نہ سکا.\n",
      "اکیلا رہنا چاہتا تھا, مگر رہ بھی نہ سکا.\n"
     ]
    }
   ],
   "source": [
    "indic_string=\"لوگوں سے ملتا تھا غم, میں سہہ نہ سکا. اکیلا رہنا چاہتا تھا, مگر رہ بھی نہ سکا.\"\n",
    "\n",
    "output_text = normalizer.normalize(indic_string)\n",
    "sentences=sentence_tokenize.sentence_split(output_text, lang='ur')\n",
    "for t in sentences:\n",
    "    print(t)"
   ]
  },
  {
   "cell_type": "code",
   "execution_count": 51,
   "metadata": {},
   "outputs": [
    {
     "name": "stdout",
     "output_type": "stream",
     "text": [
      "आलस्यं हि मनुष्याणां शरीरस्थो महान् रिपुः।\n",
      "नास्त्युद्यमसमो बन्धुः कृत्वा यं नावसीदति।\n",
      "।\n",
      "अर्थ - व्यक्ति का सबसे बड़ा दुश्मन आलस्य होता है, व्यक्ति का परिश्रम ही उसका सच्चा मित्र होता है।\n",
      "क्योंकि जब भी मनुष्य परिश्रम करता है तो वह दुखी नहीं होता है और हमेशा खुश ही रहता है।\n"
     ]
    }
   ],
   "source": [
    "indic_string=\"आलस्यं हि मनुष्याणां शरीरस्थो महान् रिपुः। नास्त्युद्यमसमो बन्धुः कृत्वा यं नावसीदति।। अर्थ – व्यक्ति का सबसे बड़ा दुश्मन आलस्य होता है, व्यक्ति का परिश्रम ही उसका सच्चा मित्र होता है। क्योंकि जब भी मनुष्य परिश्रम करता है तो वह दुखी नहीं होता है और हमेशा खुश ही रहता है।\"\n",
    "\n",
    "output_text = normalizer.normalize(indic_string)\n",
    "sentences=sentence_tokenize.sentence_split(output_text, lang='hi')\n",
    "for t in sentences:\n",
    "    print(t)"
   ]
  },
  {
   "cell_type": "markdown",
   "metadata": {},
   "source": [
    "As we observe here, in some instances we use two poorna viraam next to each other instead of just one, especially when Sanskrit is embedded in Hindi text. The sentence-splitting treats each as a separate sentence and is prone to failure."
   ]
  },
  {
   "cell_type": "markdown",
   "metadata": {},
   "source": [
    "---\n",
    "# Tokenization"
   ]
  },
  {
   "cell_type": "markdown",
   "metadata": {},
   "source": [
    "Tokenize based on punctuation boundary"
   ]
  },
  {
   "cell_type": "code",
   "execution_count": 83,
   "metadata": {},
   "outputs": [
    {
     "name": "stdout",
     "output_type": "stream",
     "text": [
      "Input String:\n",
      "उनका जीवन ख़ुशी-ख़ुशी बीत रहा था।\n",
      "\n",
      "Tokens: \n",
      "उनका\n",
      "जीवन\n",
      "ख़ुशी\n",
      "-\n",
      "ख़ुशी\n",
      "बीत\n",
      "रहा\n",
      "था\n",
      "।\n"
     ]
    }
   ],
   "source": [
    "from indicnlp.tokenize import indic_tokenize  \n",
    "\n",
    "indic_string='उनका जीवन ख़ुशी-ख़ुशी बीत रहा था|'\n",
    "output_text = normalizer.normalize(indic_string)\n",
    "\n",
    "print('Input String:\\n{}'.format(output_text))\n",
    "print('\\nTokens: ')\n",
    "for t in indic_tokenize.trivial_tokenize(output_text): \n",
    "    print(t)"
   ]
  },
  {
   "cell_type": "markdown",
   "metadata": {},
   "source": [
    "---\n",
    "# Detokenization"
   ]
  },
  {
   "cell_type": "markdown",
   "metadata": {},
   "source": [
    "It is natural to not add white-space between words and punctuations. The detokenizer handles it"
   ]
  },
  {
   "cell_type": "code",
   "execution_count": 80,
   "metadata": {},
   "outputs": [
    {
     "name": "stdout",
     "output_type": "stream",
     "text": [
      "Input String\t\t:\tधीरे – धीरे\n",
      "Detokenized String\t:\tधीरे – धीरे\n"
     ]
    }
   ],
   "source": [
    "from indicnlp.tokenize import indic_detokenize\n",
    "\n",
    "indic_string2 = ' '.join( indic_tokenize.trivial_tokenize(indic_string) )\n",
    "\n",
    "print('Input String\\t\\t:\\t{}'.format(indic_string2))\n",
    "print('Detokenized String\\t:\\t{}'.format(indic_detokenize.trivial_detokenize(indic_string,lang='hi')))"
   ]
  },
  {
   "cell_type": "markdown",
   "metadata": {},
   "source": [
    "It is cool to observe that distinction between - and – needs to be made very clearly, in order for the detokenization to work perfectly. This phenomenon is demonstrated in the two cells below:"
   ]
  },
  {
   "cell_type": "code",
   "execution_count": 73,
   "metadata": {},
   "outputs": [
    {
     "name": "stdout",
     "output_type": "stream",
     "text": [
      "Input String:\t\t آہِستہ – آہِستہ\n",
      "Detokenized String:\t آہِستہ – آہِستہ\n",
      "\n",
      "Input String:\t\t धीरे – धीरे\n",
      "Detokenized String:\t धीरे – धीरे\n"
     ]
    }
   ],
   "source": [
    "from indicnlp.tokenize import indic_tokenize  \n",
    "\n",
    "indic_string='آہِستہ – آہِستہ'\n",
    "output_text = normalizer.normalize(indic_string)\n",
    "    \n",
    "from indicnlp.tokenize import indic_detokenize  \n",
    "indic_string2 = ' '.join( indic_tokenize.trivial_tokenize(indic_string) )\n",
    "\n",
    "print('Input String:\\t\\t {}'.format(indic_string2))\n",
    "print('Detokenized String:\\t {}'.format(indic_detokenize.trivial_detokenize(indic_string,lang='hi')))\n",
    "\n",
    "indic_string='धीरे – धीरे'\n",
    "output_text = normalizer.normalize(indic_string)\n",
    "    \n",
    "from indicnlp.tokenize import indic_detokenize  \n",
    "indic_string2 = ' '.join( indic_tokenize.trivial_tokenize(indic_string) )\n",
    "\n",
    "print('\\nInput String:\\t\\t {}'.format(indic_string2))\n",
    "print('Detokenized String:\\t {}'.format(indic_detokenize.trivial_detokenize(indic_string,lang='hi')))"
   ]
  },
  {
   "cell_type": "code",
   "execution_count": 71,
   "metadata": {},
   "outputs": [
    {
     "name": "stdout",
     "output_type": "stream",
     "text": [
      "Input String:\t\t آہِستہ - آہِستہ\n",
      "Detokenized String:\t  آہِستہ-آہِستہ \n",
      "\n",
      "Input String:\t\t धीरे - धीरे\n",
      "Detokenized String:\t धीरे-धीरे\n"
     ]
    }
   ],
   "source": [
    "from indicnlp.tokenize import indic_tokenize  \n",
    "\n",
    "indic_string=' آہِستہ - آہِستہ '\n",
    "output_text = normalizer.normalize(indic_string)\n",
    "    \n",
    "from indicnlp.tokenize import indic_detokenize  \n",
    "indic_string2 = ' '.join( indic_tokenize.trivial_tokenize(indic_string) )\n",
    "\n",
    "print('Input String:\\t\\t {}'.format(indic_string2))\n",
    "print('Detokenized String:\\t {}'.format(indic_detokenize.trivial_detokenize(indic_string,lang='hi')))\n",
    "\n",
    "indic_string='धीरे - धीरे'\n",
    "output_text = normalizer.normalize(indic_string)\n",
    "    \n",
    "from indicnlp.tokenize import indic_detokenize  \n",
    "indic_string2 = ' '.join( indic_tokenize.trivial_tokenize(indic_string) )\n",
    "\n",
    "print('\\nInput String:\\t\\t {}'.format(indic_string2))\n",
    "print('Detokenized String:\\t {}'.format(indic_detokenize.trivial_detokenize(indic_string,lang='hi')))"
   ]
  },
  {
   "cell_type": "markdown",
   "metadata": {},
   "source": [
    "---\n",
    "# Script Conversion"
   ]
  },
  {
   "cell_type": "markdown",
   "metadata": {},
   "source": [
    "Convert from one Indic script to another using a rule-based system"
   ]
  },
  {
   "cell_type": "markdown",
   "metadata": {},
   "source": [
    "The following scripts are supported:\n",
    "\n",
    "Devanagari (Hindi,Marathi,Sanskrit,Konkani,Sindhi,Nepali), Assamese, Bangla, Oriya, Gujarati, Gurumukhi (Punjabi), Sindhi, Tamil, Telugu, Kannada, Malayalam"
   ]
  },
  {
   "cell_type": "code",
   "execution_count": 96,
   "metadata": {},
   "outputs": [
    {
     "name": "stdout",
     "output_type": "stream",
     "text": [
      "In Hindi\t:\t राजस्थान \n",
      "In Telegu\t:\t రాజస్థాన\n"
     ]
    }
   ],
   "source": [
    "from indicnlp.transliterate.unicode_transliterate import UnicodeIndicTransliterator\n",
    "input_text = 'राजस्थान'\n",
    "print(\"In Hindi\\t:\\t\",input_text, \"\\nIn Telegu\\t:\\t\", UnicodeIndicTransliterator.transliterate(input_text,\"hi\",\"te\"))"
   ]
  },
  {
   "cell_type": "code",
   "execution_count": 95,
   "metadata": {},
   "outputs": [
    {
     "name": "stdout",
     "output_type": "stream",
     "text": [
      "In Hindi\t:\t राजस्थान\n",
      "In Bangla\t:\t রাজস্থান\n",
      "In Kannada\t:\t ರಾಜಸ್ಥಾನ\n"
     ]
    }
   ],
   "source": [
    "from indicnlp.transliterate.unicode_transliterate import UnicodeIndicTransliterator\n",
    "input_text = 'राजस्थान'\n",
    "print(\"In Hindi\\t:\\t\",input_text)\n",
    "print(\"In Bangla\\t:\\t\",UnicodeIndicTransliterator.transliterate(input_text,\"hi\",\"bn\"))\n",
    "print(\"In Kannada\\t:\\t\",UnicodeIndicTransliterator.transliterate(input_text,\"hi\",\"kn\"))\n"
   ]
  },
  {
   "cell_type": "markdown",
   "metadata": {},
   "source": [
    "---\n",
    "# Romanization"
   ]
  },
  {
   "cell_type": "markdown",
   "metadata": {},
   "source": [
    "Convert Indic script text to Roman text in the ITRANS notation"
   ]
  },
  {
   "cell_type": "code",
   "execution_count": 120,
   "metadata": {},
   "outputs": [
    {
     "name": "stdout",
     "output_type": "stream",
     "text": [
      "In Hindi\t\t\t:\t हिंदी \n",
      "In Roman script(ITRANS notation):\t hi.mdii\n",
      "The actual spelling\t\t:\t Hindi\n"
     ]
    }
   ],
   "source": [
    "from indicnlp.transliterate.unicode_transliterate import ItransTransliterator\n",
    "\n",
    "input_text = 'हिंदी'\n",
    "lang='hi'\n",
    "\n",
    "itrans_text = ItransTransliterator.to_itrans(input_text,lang)\n",
    "\n",
    "print(\"In Hindi\\t\\t\\t:\\t\",input_text,\"\\nIn Roman script(ITRANS notation):\\t\",itrans_text)\n",
    "print(\"The actual spelling\\t\\t:\\t Hindi\")"
   ]
  },
  {
   "cell_type": "code",
   "execution_count": 118,
   "metadata": {},
   "outputs": [
    {
     "name": "stdout",
     "output_type": "stream",
     "text": [
      "In Bangla\t\t\t:\t নাজিয়া \n",
      "In Roman script(ITRANS notation):\t naajiaa\n",
      "The actual spelling\t\t:\t Nazia\n"
     ]
    }
   ],
   "source": [
    "from indicnlp.transliterate.unicode_transliterate import ItransTransliterator\n",
    "\n",
    "input_text = 'নাজিয়া'\n",
    "lang='bn'\n",
    "\n",
    "itrans_text = ItransTransliterator.to_itrans(input_text,lang)\n",
    "\n",
    "print(\"In Bangla\\t\\t\\t:\\t\",input_text,\"\\nIn Roman script(ITRANS notation):\\t\",itrans_text)\n",
    "print(\"The actual spelling\\t\\t:\\t Nazia\")"
   ]
  },
  {
   "cell_type": "markdown",
   "metadata": {},
   "source": [
    "---\n",
    "# Indicization (ITRANS to Indic Script)"
   ]
  },
  {
   "cell_type": "markdown",
   "metadata": {},
   "source": [
    "Convert script text in ITRANS notation to Indic script"
   ]
  },
  {
   "cell_type": "code",
   "execution_count": 126,
   "metadata": {},
   "outputs": [
    {
     "name": "stdout",
     "output_type": "stream",
     "text": [
      "स्स्अअम्म्\n",
      "938\n",
      "94d\n",
      "938\n",
      "94d\n",
      "905\n",
      "905\n",
      "92e\n",
      "94d\n",
      "92e\n",
      "94d\n"
     ]
    }
   ],
   "source": [
    "from indicnlp.transliterate.unicode_transliterate import ItransTransliterator\n",
    "\n",
    "lang='hi'\n",
    "itrans_text = 'sam'\n",
    "x = ItransTransliterator.from_itrans(itrans_text,lang)\n",
    "\n",
    "print(x)\n",
    "for y in x:\n",
    "    print('{:x}'.format(ord(y)))\n"
   ]
  },
  {
   "cell_type": "markdown",
   "metadata": {},
   "source": [
    "---\n",
    "# Word Segmentation"
   ]
  },
  {
   "cell_type": "markdown",
   "metadata": {},
   "source": [
    "Perform unsupervised word segmentation using Morfessor\n",
    "\n",
    "The following languages are supported:\n",
    "\n",
    "Hindi, Punjabi, Marathi, Konkani, Gujarati, Bengali, Kannada, Tamil, Telugu, Malayalam"
   ]
  },
  {
   "cell_type": "code",
   "execution_count": 128,
   "metadata": {},
   "outputs": [],
   "source": [
    "from indicnlp.morph import unsupervised_morph \n",
    "from indicnlp import common"
   ]
  },
  {
   "cell_type": "code",
   "execution_count": 129,
   "metadata": {},
   "outputs": [
    {
     "name": "stdout",
     "output_type": "stream",
     "text": [
      "ರೈತ\n",
      "ನೊಬ್ಬನ\n",
      "ತೋಟ\n",
      "ದಲ್ಲಿದ್ದ\n",
      "ಸೇಬು\n",
      "ಮರ\n",
      "ದಲ್ಲಿ\n",
      "ಒಂದೇ\n",
      "ಒಂದು\n",
      "ಹಣ್ಣು\n",
      "ಬೆಳೆಯ\n",
      "ಿತು\n",
      ".\n"
     ]
    }
   ],
   "source": [
    "analyzer=unsupervised_morph.UnsupervisedMorphAnalyzer('kn')\n",
    "indic_string='ರೈತನೊಬ್ಬನ ತೋಟದಲ್ಲಿದ್ದ ಸೇಬು ಮರದಲ್ಲಿಒಂದೇ ಒಂದು ಹಣ್ಣು ಬೆಳೆಯಿತು .'\n",
    "\n",
    "analyzes_tokens=analyzer.morph_analyze_document(indic_string.split(' '))\n",
    "\n",
    "for w in analyzes_tokens: \n",
    "    print(w)"
   ]
  },
  {
   "cell_type": "code",
   "execution_count": 130,
   "metadata": {},
   "outputs": [
    {
     "name": "stdout",
     "output_type": "stream",
     "text": [
      "मुझे\n",
      "खाना\n",
      "खाना\n",
      "है\n",
      "।\n"
     ]
    }
   ],
   "source": [
    "analyzer=unsupervised_morph.UnsupervisedMorphAnalyzer('hi')\n",
    "indic_string='मुझे खाना खाना है।'\n",
    "\n",
    "analyzes_tokens=analyzer.morph_analyze_document(indic_string.split(' '))\n",
    "\n",
    "for w in analyzes_tokens: \n",
    "    print(w)"
   ]
  },
  {
   "cell_type": "code",
   "execution_count": 132,
   "metadata": {},
   "outputs": [
    {
     "name": "stdout",
     "output_type": "stream",
     "text": [
      "मैं\n",
      "तुम्हार\n",
      "ी\n",
      "दीर्घा\n",
      "यु\n",
      "की\n",
      "कामना\n",
      "कर\n",
      "ती\n",
      "हूँ\n",
      "।\n"
     ]
    }
   ],
   "source": [
    "analyzer=unsupervised_morph.UnsupervisedMorphAnalyzer('hi')\n",
    "indic_string='मैं तुम्हारी दीर्घायु की कामना करती हूँ।'\n",
    "\n",
    "analyzes_tokens=analyzer.morph_analyze_document(indic_string.split(' '))\n",
    "\n",
    "for w in analyzes_tokens: \n",
    "    print(w)"
   ]
  },
  {
   "cell_type": "code",
   "execution_count": 134,
   "metadata": {},
   "outputs": [
    {
     "name": "stdout",
     "output_type": "stream",
     "text": [
      "शुभेच्छा\n"
     ]
    }
   ],
   "source": [
    "analyzer=unsupervised_morph.UnsupervisedMorphAnalyzer('mr')\n",
    "indic_string='शुभेच्छा'\n",
    "\n",
    "analyzes_tokens=analyzer.morph_analyze_document(indic_string.split(' '))\n",
    "\n",
    "for w in analyzes_tokens: \n",
    "    print(w)"
   ]
  },
  {
   "cell_type": "code",
   "execution_count": 131,
   "metadata": {},
   "outputs": [
    {
     "name": "stdout",
     "output_type": "stream",
     "text": [
      "এই\n",
      "বাংলা।\n",
      "ই\n",
      "হা\n",
      "হলো\n",
      "মিষ্টি।\n"
     ]
    }
   ],
   "source": [
    "analyzer=unsupervised_morph.UnsupervisedMorphAnalyzer('bn')\n",
    "indic_string='এই বাংলা। ইহা হলো মিষ্টি।'\n",
    "\n",
    "analyzes_tokens=analyzer.morph_analyze_document(indic_string.split(' '))\n",
    "\n",
    "for w in analyzes_tokens: \n",
    "    print(w)"
   ]
  },
  {
   "cell_type": "code",
   "execution_count": null,
   "metadata": {},
   "outputs": [],
   "source": []
  },
  {
   "cell_type": "markdown",
   "metadata": {},
   "source": [
    "---\n",
    "---"
   ]
  }
 ],
 "metadata": {
  "kernelspec": {
   "display_name": "Python 3",
   "language": "python",
   "name": "python3"
  },
  "language_info": {
   "codemirror_mode": {
    "name": "ipython",
    "version": 3
   },
   "file_extension": ".py",
   "mimetype": "text/x-python",
   "name": "python",
   "nbconvert_exporter": "python",
   "pygments_lexer": "ipython3",
   "version": "3.9.9"
  }
 },
 "nbformat": 4,
 "nbformat_minor": 5
}
