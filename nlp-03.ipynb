{
 "cells": [
  {
   "cell_type": "markdown",
   "metadata": {},
   "source": [
    "# Named Entity Recognition (NER)\n",
    "---\n",
    "---"
   ]
  },
  {
   "cell_type": "code",
   "execution_count": 734,
   "metadata": {
    "tags": []
   },
   "outputs": [],
   "source": [
    "# !pip install python-crfsuite\n",
    "\n",
    "import nltk\n",
    "import numpy as np\n",
    "import pandas as pd\n",
    "import codecs\n",
    "import matplotlib.pyplot as plt\n",
    "import seaborn as sns\n",
    "\n",
    "from itertools import chain\n",
    "from sklearn.metrics import classification_report, confusion_matrix\n",
    "from sklearn.preprocessing import MultiLabelBinarizer\n",
    "mlb = MultiLabelBinarizer()\n",
    "\n",
    "import sklearn\n",
    "import pycrfsuite\n",
    "\n",
    "from nltk.corpus.reader import ConllChunkCorpusReader\n",
    "from seqeval.metrics import accuracy_score\n",
    "from seqeval.metrics import classification_report\n",
    "from seqeval.metrics import f1_score\n",
    "from sklearn.metrics import confusion_matrix, ConfusionMatrixDisplay\n",
    "from seqeval.scheme import IOB1"
   ]
  },
  {
   "cell_type": "markdown",
   "metadata": {},
   "source": [
    "## Reading Train and Test Data"
   ]
  },
  {
   "cell_type": "code",
   "execution_count": 735,
   "metadata": {},
   "outputs": [
    {
     "name": "stdout",
     "output_type": "stream",
     "text": [
      "15300 \n",
      "\n",
      "[('it', 'O'), ('is', 'O'), ('a', 'O'), ('series', 'O'), ('of', 'O'), ('badminton', 'O'), ('tournaments', 'O'), (',', 'O'), ('sanctioned', 'O'), ('by', 'O'), ('badminton', 'B-GRP'), ('world', 'I-GRP'), ('federation', 'I-GRP'), ('(', 'O'), ('bwf', 'O'), (')', 'O'), ('since', 'O'), ('2007', 'O'), ('.', 'O')]\n"
     ]
    }
   ],
   "source": [
    "mycorpus = ConllChunkCorpusReader(\"EN\", \"en_train_final.conll\", chunk_types=\"pos\")\n",
    "train_corpus = []\n",
    "for tree in mycorpus.tagged_sents():\n",
    "    train_corpus.append(tree)\n",
    "    \n",
    "print(len(train_corpus),'\\n')\n",
    "print(train_corpus[1])"
   ]
  },
  {
   "cell_type": "code",
   "execution_count": 736,
   "metadata": {},
   "outputs": [
    {
     "name": "stdout",
     "output_type": "stream",
     "text": [
      "800 \n",
      "\n",
      "[('it', 'O'), ('was', 'O'), ('republished', 'O'), ('by', 'O'), ('mit', 'B-CORP'), ('press', 'I-CORP'), ('in', 'O'), ('1971', 'O'), ('and', 'O'), ('is', 'O'), ('still', 'O'), ('in', 'O'), ('print', 'O'), ('.', 'O')]\n"
     ]
    }
   ],
   "source": [
    "mycorpus = ConllChunkCorpusReader(\"EN\", \"en_dev_final.conll\",chunk_types=\"pos\")\n",
    "test_corpus = []\n",
    "for tree in mycorpus.tagged_sents():\n",
    "    test_corpus.append(tree)\n",
    "\n",
    "print(len(test_corpus),'\\n')\n",
    "print(test_corpus[1])"
   ]
  },
  {
   "cell_type": "markdown",
   "metadata": {},
   "source": [
    "## Defining Features\n",
    "Here we use word identity, word suffix, word shape. and some information from nearby words for the purpose."
   ]
  },
  {
   "cell_type": "code",
   "execution_count": 737,
   "metadata": {
    "tags": []
   },
   "outputs": [],
   "source": [
    "# Every word is represented by a set of features. CRF allows us to give any arbitrary set of features\n",
    "def word2features(sent, i):\n",
    "    word = sent[i][0]\n",
    "    features = [\n",
    "        'word[-3:]=' + word[-3:],                # last three letters of the word\n",
    "        'word[-2:]=' + word[-2:],                # last two letters of the word\n",
    "        'word.isdigit=%s' % word.isdigit()       # checking if the word contains all digits\n",
    "    ]\n",
    "    if i > 0:\n",
    "        word1 = sent[i-1][0]\n",
    "        features.extend([\n",
    "            '-1:word=' + word1                   # previous word\n",
    "        ])\n",
    "    else:\n",
    "        features.append('BOS')                   # tagging Beginning Of Sentence (BOS)\n",
    "        \n",
    "    if i < len(sent)-1:\n",
    "        word1 = sent[i+1][0]\n",
    "        features.extend([\n",
    "            '+1:word=' + word1                   # next word\n",
    "        ])\n",
    "    else:\n",
    "        features.append('EOS')                   # tagging End Of Sentence (EOS)\n",
    "                \n",
    "    return features\n",
    "\n",
    "def word2featuresTest(sent, i):\n",
    "    word = sent[i]\n",
    "    features = [\n",
    "        'word[-3:]=' + word[-3:],\n",
    "        'word[-2:]=' + word[-2:],\n",
    "        'word.isdigit=%s' % word.isdigit()\n",
    "    ]\n",
    "    if i > 0:\n",
    "        word1 = sent[i-1]\n",
    "        features.extend([\n",
    "            '-1:word=' + word1\n",
    "        ])\n",
    "    else:\n",
    "        features.append('BOS')\n",
    "        \n",
    "    if i < len(sent)-1:\n",
    "        word1 = sent[i+1]\n",
    "        features.extend([\n",
    "            '+1:word=' + word1\n",
    "        ])\n",
    "    else:\n",
    "        features.append('EOS')\n",
    "                \n",
    "    return features\n",
    "\n",
    "def sent2features(sent):\n",
    "    return [word2features(sent, i) for i in range(len(sent))]\n",
    "\n",
    "def sent2labels(sent):\n",
    "    return [label for token, label in sent]"
   ]
  },
  {
   "cell_type": "code",
   "execution_count": 738,
   "metadata": {},
   "outputs": [
    {
     "name": "stdout",
     "output_type": "stream",
     "text": [
      "[('it', 'O'), ('is', 'O'), ('a', 'O'), ('series', 'O'), ('of', 'O'), ('badminton', 'O'), ('tournaments', 'O'), (',', 'O'), ('sanctioned', 'O'), ('by', 'O'), ('badminton', 'B-GRP'), ('world', 'I-GRP'), ('federation', 'I-GRP'), ('(', 'O'), ('bwf', 'O'), (')', 'O'), ('since', 'O'), ('2007', 'O'), ('.', 'O')] \n",
      "\n",
      "('badminton', 'B-GRP')\n",
      "['word[-3:]=ton', 'word[-2:]=on', 'word.isdigit=False', '-1:word=by', '+1:word=world'] \n",
      "\n",
      "('2007', 'O')\n",
      "['word[-3:]=007', 'word[-2:]=07', 'word.isdigit=True', '-1:word=since', '+1:word=.'] \n",
      "\n"
     ]
    }
   ],
   "source": [
    "X_train = [sent2features(s) for s in train_corpus]\n",
    "y_train = [sent2labels(s) for s in train_corpus]\n",
    "\n",
    "X_test = [sent2features(s) for s in test_corpus]\n",
    "y_test = [sent2labels(s) for s in test_corpus]\n",
    "\n",
    "print(train_corpus[1],'\\n')\n",
    "\n",
    "print(train_corpus[1][10])\n",
    "print(X_train[1][10],'\\n')\n",
    "\n",
    "print(train_corpus[1][17])\n",
    "print(X_train[1][17],'\\n')"
   ]
  },
  {
   "cell_type": "code",
   "execution_count": 739,
   "metadata": {
    "tags": []
   },
   "outputs": [],
   "source": [
    "# 1%%time\n",
    "trainer = pycrfsuite.Trainer(verbose=False)\n",
    "\n",
    "for xseq, yseq in zip(X_train, y_train):\n",
    "    trainer.append(xseq, yseq)"
   ]
  },
  {
   "cell_type": "markdown",
   "metadata": {},
   "source": [
    "## Hyperparameters"
   ]
  },
  {
   "cell_type": "code",
   "execution_count": 740,
   "metadata": {
    "tags": []
   },
   "outputs": [],
   "source": [
    "trainer.set_params({\n",
    "    'c1': 0.7,   # coefficient for L1 penalty\n",
    "    'c2': 0.03,  # coefficient for L2 penalty\n",
    "    'max_iterations': 75,  # stop earlier\n",
    "\n",
    "    # include transitions that are possible, but not observed\n",
    "    'feature.possible_transitions': True\n",
    "})"
   ]
  },
  {
   "cell_type": "markdown",
   "metadata": {},
   "source": [
    "## Training the Model"
   ]
  },
  {
   "cell_type": "code",
   "execution_count": 741,
   "metadata": {},
   "outputs": [
    {
     "name": "stdout",
     "output_type": "stream",
     "text": [
      "CPU times: user 13.3 s, sys: 1.42 ms, total: 13.3 s\n",
      "Wall time: 13.3 s\n"
     ]
    }
   ],
   "source": [
    "%%time\n",
    "trainer.train('en.crfsuite')"
   ]
  },
  {
   "cell_type": "code",
   "execution_count": 742,
   "metadata": {},
   "outputs": [
    {
     "data": {
      "text/plain": [
       "<contextlib.closing at 0x7fb2c27f3ac0>"
      ]
     },
     "execution_count": 742,
     "metadata": {},
     "output_type": "execute_result"
    }
   ],
   "source": [
    "tagger = pycrfsuite.Tagger()\n",
    "tagger.open('en.crfsuite')"
   ]
  },
  {
   "cell_type": "markdown",
   "metadata": {},
   "source": [
    "## Obtaining Predictions"
   ]
  },
  {
   "cell_type": "code",
   "execution_count": 743,
   "metadata": {},
   "outputs": [
    {
     "name": "stdout",
     "output_type": "stream",
     "text": [
      "CPU times: user 45.6 ms, sys: 3.89 ms, total: 49.5 ms\n",
      "Wall time: 48 ms\n"
     ]
    }
   ],
   "source": [
    "%%time\n",
    "y_pred = [tagger.tag(xseq) for xseq in X_test]"
   ]
  },
  {
   "cell_type": "markdown",
   "metadata": {},
   "source": [
    "## Dumping Predictions to Disk"
   ]
  },
  {
   "cell_type": "code",
   "execution_count": 744,
   "metadata": {},
   "outputs": [],
   "source": [
    "with codecs.open('en.out.txt', 'w') as out_file:\n",
    "    for every_sent,pred_label in zip(test_corpus, y_pred):\n",
    "        for every_word_correct_label,predicted_label in zip(every_sent, pred_label):\n",
    "            out_file.write(every_word_correct_label[0] + \"\\t\" + every_word_correct_label[1] + \"\\t\" + predicted_label)\n",
    "            out_file.write(\"\\n\")\n",
    "        out_file.write(\"\\n\")"
   ]
  },
  {
   "cell_type": "code",
   "execution_count": 745,
   "metadata": {},
   "outputs": [],
   "source": [
    "def conllReader(filename, word_field=0, label_field=1, prediction_field=2):\n",
    "    sentences_true_labels = []\n",
    "    sentences_pred_labels = []\n",
    "    true_list = []\n",
    "    pred_list = []\n",
    "    label_list = []\n",
    "    \n",
    "    with codecs.open(filename, 'r', errors='ignore', encoding='utf8') as f_in:\n",
    "        for line in f_in:\n",
    "            line = line.strip()\n",
    "            if line:\n",
    "                if line.startswith('#'):\n",
    "                    continue\n",
    "                label = line.split('\\t')[label_field]\n",
    "                pred = line.split('\\t')[prediction_field]\n",
    "                true_list.append( label )\n",
    "                pred_list.append( pred )\n",
    "                \n",
    "            else:\n",
    "                if len(true_list) > 0:\n",
    "                    sentences_true_labels.append( true_list )\n",
    "                    sentences_pred_labels.append( pred_list )\n",
    "                true_list = []\n",
    "                pred_list = []\n",
    "        f_in.close()\n",
    "        \n",
    "    return sentences_true_labels, sentences_pred_labels"
   ]
  },
  {
   "cell_type": "code",
   "execution_count": 746,
   "metadata": {},
   "outputs": [],
   "source": [
    "true_labels, predicted_labels = conllReader(\"en.out.txt\")\n",
    "# predicted_labels"
   ]
  },
  {
   "cell_type": "code",
   "execution_count": 747,
   "metadata": {},
   "outputs": [
    {
     "name": "stdout",
     "output_type": "stream",
     "text": [
      "F1 Score is\n",
      "0.611214953271028 \n",
      "\n",
      "Classification report\n",
      "              precision    recall  f1-score   support\n",
      "\n",
      "        CORP       0.79      0.48      0.60       193\n",
      "          CW       0.41      0.16      0.23       176\n",
      "         GRP       0.74      0.59      0.66       190\n",
      "         LOC       0.65      0.59      0.62       234\n",
      "         PER       0.81      0.81      0.81       290\n",
      "        PROD       0.69      0.32      0.44       147\n",
      "\n",
      "   micro avg       0.72      0.53      0.61      1230\n",
      "   macro avg       0.68      0.49      0.56      1230\n",
      "weighted avg       0.69      0.53      0.59      1230\n",
      "\n"
     ]
    }
   ],
   "source": [
    "print('F1 Score is')\n",
    "print( f1_score(true_labels, predicted_labels) ,'\\n')\n",
    "\n",
    "print('Classification report')\n",
    "print( classification_report(true_labels, predicted_labels, scheme=IOB1) )"
   ]
  },
  {
   "cell_type": "code",
   "execution_count": 748,
   "metadata": {},
   "outputs": [
    {
     "data": {
      "text/plain": [
       "<sklearn.metrics._plot.confusion_matrix.ConfusionMatrixDisplay at 0x7fb31979ce20>"
      ]
     },
     "execution_count": 748,
     "metadata": {},
     "output_type": "execute_result"
    },
    {
     "data": {
      "image/png": "[encoded data removed]",
      "text/plain": [
       "<Figure size 720x720 with 2 Axes>"
      ]
     },
     "metadata": {},
     "output_type": "display_data"
    }
   ],
   "source": [
    "cm = confusion_matrix(mlb.fit_transform(true_labels).argmax(axis=1), mlb.fit_transform(predicted_labels).argmax(axis=1))\n",
    "\n",
    "cm_display = ConfusionMatrixDisplay(cm)\n",
    "\n",
    "fig, ax = plt.subplots()\n",
    "fig.set_figheight(10)\n",
    "fig.set_figwidth(10)\n",
    "\n",
    "cmd.plot(xticks_rotation='vertical', ax =ax)"
   ]
  },
  {
   "cell_type": "markdown",
   "metadata": {},
   "source": [
    "## Attaching PoS Tagger-based features"
   ]
  },
  {
   "cell_type": "code",
   "execution_count": 749,
   "metadata": {},
   "outputs": [
    {
     "data": {
      "text/plain": [
       "<contextlib.closing at 0x7fb2c3968c10>"
      ]
     },
     "execution_count": 749,
     "metadata": {},
     "output_type": "execute_result"
    }
   ],
   "source": [
    "postagger = pycrfsuite.Tagger()\n",
    "postagger.open('en.crfsuite')"
   ]
  },
  {
   "cell_type": "code",
   "execution_count": 750,
   "metadata": {},
   "outputs": [],
   "source": [
    "# Every word is represented by a set of features. CRF allows us to give any arbitrary set of features\n",
    "def word2featurespos(sent, i):\n",
    "    word = sent[i][0]\n",
    "    postag = sent[i][2]\n",
    "    features = [\n",
    "        'word[-3:]=' + word[-3:],\n",
    "        'word[-2:]=' + word[-2:],\n",
    "        'word.isdigit=%s' % word.isdigit(),\n",
    "        'postag=' + postag,\n",
    "        'postag[:2]=' + postag[:2],\n",
    "    ]\n",
    "    if i > 0:\n",
    "        word1 = sent[i-1][0]\n",
    "        postag1 = sent[i-1][2]\n",
    "        features.extend([\n",
    "            '-1:word=' + word1,\n",
    "            '-1:postag=' + postag1,\n",
    "            '-1:postag[:2]=' + postag1[:2],\n",
    "        ])\n",
    "    else:\n",
    "        features.append('BOS')\n",
    "        \n",
    "    if i < len(sent)-1:\n",
    "        word1 = sent[i+1][0]\n",
    "        postag1 = sent[i+1][2]\n",
    "        features.extend([\n",
    "            '+1:word=' + word1,\n",
    "            '+1:postag=' + postag1,\n",
    "            '+1:postag[:2]=' + postag1[:2],\n",
    "        ])\n",
    "    else:\n",
    "        features.append('EOS')\n",
    "                \n",
    "    return features\n",
    "\n",
    "def sent2featurespos(sent, postagger):\n",
    "    tagged = postagger.tag(sent2features(sent))\n",
    "    sentNew = [word_nelabel+(pos, ) for word_nelabel,pos in zip(sent, tagged)]\n",
    "    return [word2featurespos(sentNew, i) for i in range(len(sentNew))]\n",
    "\n",
    "def sent2labelspos(sent):\n",
    "    return [label for token, label in sent]"
   ]
  },
  {
   "cell_type": "code",
   "execution_count": 751,
   "metadata": {},
   "outputs": [
    {
     "name": "stdout",
     "output_type": "stream",
     "text": [
      "[('his', 'O'), ('playlist', 'O'), ('includes', 'O'), ('sonny', 'B-PER'), ('sharrock', 'I-PER'), (',', 'O'), ('gza', 'B-PER'), (',', 'O'), ('country', 'B-GRP'), ('teasers', 'I-GRP'), ('and', 'O'), ('the', 'B-PER'), ('notorious', 'I-PER'), ('b.i.g.', 'I-PER')]\n",
      "\n",
      "\n",
      "[('his', 'O', 'O'), ('playlist', 'O', 'O'), ('includes', 'O', 'O'), ('sonny', 'B-PER', 'B-PER'), ('sharrock', 'I-PER', 'I-PER'), (',', 'O', 'O'), ('gza', 'B-PER', 'B-LOC'), (',', 'O', 'O'), ('country', 'B-GRP', 'O'), ('teasers', 'I-GRP', 'O'), ('and', 'O', 'O'), ('the', 'B-PER', 'O'), ('notorious', 'I-PER', 'O'), ('b.i.g.', 'I-PER', 'O')]\n"
     ]
    }
   ],
   "source": [
    "for sent in train_corpus:\n",
    "    print(sent)\n",
    "    print(\"\\n\")\n",
    "    s1 = postagger.tag(sent2features(sent))\n",
    "    sentNew = [word_nelabel+(pos, ) for word_nelabel,pos in zip(sent, s1)]\n",
    "    print(sentNew)\n",
    "    break"
   ]
  },
  {
   "cell_type": "code",
   "execution_count": 752,
   "metadata": {},
   "outputs": [
    {
     "name": "stdout",
     "output_type": "stream",
     "text": [
      "['word[-3:]=his', 'word[-2:]=is', 'word.isdigit=False', 'postag=O', 'postag[:2]=O', 'BOS', '+1:word=playlist', '+1:postag=O', '+1:postag[:2]=O']\n"
     ]
    }
   ],
   "source": [
    "X_train_pos = [sent2featurespos(s, postagger) for s in train_corpus]\n",
    "y_train_pos = [sent2labelspos(s) for s in train_corpus]\n",
    "\n",
    "X_test_pos = [sent2featurespos(s, postagger) for s in test_corpus]\n",
    "y_test_pos = [sent2labelspos(s) for s in test_corpus]\n",
    "\n",
    "print(X_train_pos[0][0])"
   ]
  },
  {
   "cell_type": "code",
   "execution_count": 753,
   "metadata": {},
   "outputs": [],
   "source": [
    "trainerpos = pycrfsuite.Trainer(verbose=False)\n",
    "\n",
    "for xseq, yseq in zip(X_train_pos, y_train_pos):\n",
    "    trainerpos.append(xseq, yseq)"
   ]
  },
  {
   "cell_type": "code",
   "execution_count": 754,
   "metadata": {
    "tags": []
   },
   "outputs": [],
   "source": [
    "trainerpos.set_params({\n",
    "    'c1': 1.0,   # coefficient for L1 penalty\n",
    "    'c2': 1e-3,  # coefficient for L2 penalty\n",
    "    'max_iterations': 100,  # stop earlier\n",
    "\n",
    "    # include transitions that are possible, but not observed\n",
    "    'feature.possible_transitions': True\n",
    "})"
   ]
  },
  {
   "cell_type": "code",
   "execution_count": 755,
   "metadata": {},
   "outputs": [
    {
     "name": "stdout",
     "output_type": "stream",
     "text": [
      "CPU times: user 23.6 s, sys: 2.95 ms, total: 23.6 s\n",
      "Wall time: 23.6 s\n"
     ]
    }
   ],
   "source": [
    "%%time\n",
    "trainerpos.train('en-pos.crfsuite')"
   ]
  },
  {
   "cell_type": "code",
   "execution_count": 756,
   "metadata": {},
   "outputs": [
    {
     "data": {
      "text/plain": [
       "<contextlib.closing at 0x7fb2c54f2820>"
      ]
     },
     "execution_count": 756,
     "metadata": {},
     "output_type": "execute_result"
    }
   ],
   "source": [
    "taggerpos = pycrfsuite.Tagger()\n",
    "taggerpos.open('en-pos.crfsuite')"
   ]
  },
  {
   "cell_type": "code",
   "execution_count": 757,
   "metadata": {},
   "outputs": [
    {
     "name": "stdout",
     "output_type": "stream",
     "text": [
      "CPU times: user 39.2 ms, sys: 21 µs, total: 39.2 ms\n",
      "Wall time: 38.5 ms\n"
     ]
    }
   ],
   "source": [
    "%%time\n",
    "y_pred_pos = [taggerpos.tag(xseq) for xseq in X_test_pos]"
   ]
  },
  {
   "cell_type": "code",
   "execution_count": 758,
   "metadata": {
    "tags": []
   },
   "outputs": [],
   "source": [
    "with codecs.open('en.out.pos.txt', 'w') as out_file:\n",
    "    for every_sent,pred_label in zip(test_corpus, y_pred_pos):\n",
    "        for every_word_correct_label,predicted_label in zip(every_sent, pred_label):\n",
    "            out_file.write(every_word_correct_label[0] + \"\\t\" + every_word_correct_label[1] + \"\\t\" + predicted_label)\n",
    "            out_file.write(\"\\n\")\n",
    "        out_file.write(\"\\n\")"
   ]
  },
  {
   "cell_type": "code",
   "execution_count": 759,
   "metadata": {},
   "outputs": [],
   "source": [
    "true_labels, predicted_labels = conllReader(\"en.out.pos.txt\")"
   ]
  },
  {
   "cell_type": "code",
   "execution_count": 760,
   "metadata": {},
   "outputs": [
    {
     "name": "stdout",
     "output_type": "stream",
     "text": [
      "F1 Score is\n",
      "0.6122258516098927 \n",
      "\n",
      "Classification report\n",
      "              precision    recall  f1-score   support\n",
      "\n",
      "        CORP       0.79      0.48      0.60       193\n",
      "          CW       0.41      0.17      0.24       176\n",
      "         GRP       0.74      0.59      0.66       190\n",
      "         LOC       0.65      0.59      0.62       234\n",
      "         PER       0.81      0.81      0.81       290\n",
      "        PROD       0.70      0.33      0.44       147\n",
      "\n",
      "   micro avg       0.72      0.53      0.61      1230\n",
      "   macro avg       0.68      0.49      0.56      1230\n",
      "weighted avg       0.70      0.53      0.59      1230\n",
      "\n"
     ]
    }
   ],
   "source": [
    "print('F1 Score is')\n",
    "print( f1_score(true_labels, predicted_labels) ,'\\n')\n",
    "\n",
    "print('Classification report')\n",
    "print( classification_report(true_labels, predicted_labels, scheme=IOB1) )"
   ]
  },
  {
   "cell_type": "code",
   "execution_count": 761,
   "metadata": {},
   "outputs": [
    {
     "data": {
      "text/plain": [
       "<sklearn.metrics._plot.confusion_matrix.ConfusionMatrixDisplay at 0x7fb31979ce20>"
      ]
     },
     "execution_count": 761,
     "metadata": {},
     "output_type": "execute_result"
    },
    {
     "data": {
      "image/png": "[encoded data removed]",
      "text/plain": [
       "<Figure size 720x720 with 2 Axes>"
      ]
     },
     "metadata": {},
     "output_type": "display_data"
    }
   ],
   "source": [
    "cm = confusion_matrix(mlb.fit_transform(true_labels).argmax(axis=1), mlb.fit_transform(predicted_labels).argmax(axis=1))\n",
    "\n",
    "cm_display = ConfusionMatrixDisplay(cm)\n",
    "\n",
    "fig, ax = plt.subplots()\n",
    "fig.set_figheight(10)\n",
    "fig.set_figwidth(10)\n",
    "\n",
    "cmd.plot(xticks_rotation='vertical', ax =ax)"
   ]
  },
  {
   "cell_type": "markdown",
   "metadata": {},
   "source": [
    "## Adding Gazetteer features"
   ]
  },
  {
   "cell_type": "code",
   "execution_count": 762,
   "metadata": {},
   "outputs": [],
   "source": [
    "from nltk.corpus.reader import plaintext"
   ]
  },
  {
   "cell_type": "code",
   "execution_count": 763,
   "metadata": {},
   "outputs": [],
   "source": [
    "personGazetteer = []\n",
    "\n",
    "mycorpus = plaintext.PlaintextCorpusReader(\"EN\", \"firstnames\")\n",
    "person = []\n",
    "for sent in mycorpus.words():\n",
    "    person.append(sent)\n",
    "    \n",
    "mycorpus = plaintext.PlaintextCorpusReader(\"EN\", \"lastnames\")\n",
    "for sent in mycorpus.words():\n",
    "    person.append(sent)\n",
    "\n",
    "person = [name.lower() for name in person]\n",
    "personGazetteer = set(person)"
   ]
  },
  {
   "cell_type": "code",
   "execution_count": 764,
   "metadata": {
    "tags": []
   },
   "outputs": [],
   "source": [
    "# Every word is represented by a set of features. CRF allows us to give any arbitrary set of features\n",
    "def word2featuresGaz(sent, i, personGaz):\n",
    "    word = sent[i][0]\n",
    "    features = [\n",
    "        'word[-3:]=' + word[-3:],\n",
    "        'word[-2:]=' + word[-2:],\n",
    "        'word.isdigit=%s' % word.isdigit(),\n",
    "        'word.ispersongaz=%s' % (word in personGaz),\n",
    "    ]\n",
    "    if i > 0:\n",
    "        word1 = sent[i-1][0]\n",
    "        features.extend([\n",
    "            '-1:word=' + word1\n",
    "        ])\n",
    "    else:\n",
    "        features.append('BOS')\n",
    "        \n",
    "    if i < len(sent)-1:\n",
    "        word1 = sent[i+1][0]\n",
    "        features.extend([\n",
    "            '+1:word=' + word1\n",
    "        ])\n",
    "    else:\n",
    "        features.append('EOS')\n",
    "                \n",
    "    return features\n",
    "\n",
    "def word2featuresTest(sent, i):\n",
    "    word = sent[i]\n",
    "    features = [\n",
    "        'word[-3:]=' + word[-3:],\n",
    "        'word[-2:]=' + word[-2:],\n",
    "        'word.isdigit=%s' % word.isdigit()\n",
    "    ]\n",
    "    if i > 0:\n",
    "        word1 = sent[i-1]\n",
    "        features.extend([\n",
    "            '-1:word=' + word1\n",
    "        ])\n",
    "    else:\n",
    "        features.append('BOS')\n",
    "        \n",
    "    if i < len(sent)-1:\n",
    "        word1 = sent[i+1]\n",
    "        features.extend([\n",
    "            '+1:word=' + word1\n",
    "        ])\n",
    "    else:\n",
    "        features.append('EOS')\n",
    "                \n",
    "    return features\n",
    "\n",
    "def sent2featuresGaz(sent, personGaz):\n",
    "    return [word2featuresGaz(sent, i, personGaz) for i in range(len(sent))]\n",
    "\n",
    "def sent2labels(sent):\n",
    "    return [label for token, label in sent]"
   ]
  },
  {
   "cell_type": "code",
   "execution_count": 765,
   "metadata": {},
   "outputs": [],
   "source": [
    "X_train_gaz = [sent2featuresGaz(s, personGazetteer) for s in train_corpus]\n",
    "y_train_gaz = [sent2labels(s) for s in train_corpus]\n",
    "\n",
    "X_test_gaz = [sent2featuresGaz(s, personGazetteer) for s in test_corpus]\n",
    "y_test_gaz = [sent2labels(s) for s in test_corpus]"
   ]
  },
  {
   "cell_type": "code",
   "execution_count": 766,
   "metadata": {
    "tags": []
   },
   "outputs": [],
   "source": [
    "trainergaz = pycrfsuite.Trainer(verbose=False)\n",
    "\n",
    "for xseq, yseq in zip(X_train_gaz, y_train_gaz):\n",
    "    trainergaz.append(xseq, yseq)"
   ]
  },
  {
   "cell_type": "code",
   "execution_count": 767,
   "metadata": {},
   "outputs": [],
   "source": [
    "trainergaz.set_params({\n",
    "    'c1': 1.0,   # coefficient for L1 penalty\n",
    "    'c2': 1e-3,  # coefficient for L2 penalty\n",
    "    'max_iterations': 150,  # stop earlier\n",
    "\n",
    "    # include transitions that are possible, but not observed\n",
    "    'feature.possible_transitions': True\n",
    "})"
   ]
  },
  {
   "cell_type": "code",
   "execution_count": 768,
   "metadata": {},
   "outputs": [
    {
     "name": "stdout",
     "output_type": "stream",
     "text": [
      "CPU times: user 26.8 s, sys: 891 µs, total: 26.8 s\n",
      "Wall time: 26.9 s\n"
     ]
    }
   ],
   "source": [
    "%%time\n",
    "trainergaz.train('en-gaz.crfsuite')"
   ]
  },
  {
   "cell_type": "code",
   "execution_count": 769,
   "metadata": {},
   "outputs": [
    {
     "data": {
      "text/plain": [
       "<contextlib.closing at 0x7fb2c534b250>"
      ]
     },
     "execution_count": 769,
     "metadata": {},
     "output_type": "execute_result"
    }
   ],
   "source": [
    "taggergaz = pycrfsuite.Tagger()\n",
    "taggergaz.open('en-gaz.crfsuite')"
   ]
  },
  {
   "cell_type": "code",
   "execution_count": 770,
   "metadata": {},
   "outputs": [
    {
     "name": "stdout",
     "output_type": "stream",
     "text": [
      "CPU times: user 27.7 ms, sys: 996 µs, total: 28.7 ms\n",
      "Wall time: 28 ms\n"
     ]
    }
   ],
   "source": [
    "%%time\n",
    "y_pred_gaz = [taggergaz.tag(xseq) for xseq in X_test_gaz]"
   ]
  },
  {
   "cell_type": "code",
   "execution_count": 771,
   "metadata": {
    "tags": []
   },
   "outputs": [],
   "source": [
    "with codecs.open('en.out.gaz.txt', 'w') as out_file:\n",
    "    for every_sent,pred_label in zip(test_corpus, y_pred_gaz):\n",
    "        for every_word_correct_label,predicted_label in zip(every_sent, pred_label):\n",
    "            out_file.write(every_word_correct_label[0] + \"\\t\" + every_word_correct_label[1] + \"\\t\" + predicted_label)\n",
    "            out_file.write(\"\\n\")\n",
    "        out_file.write(\"\\n\")"
   ]
  },
  {
   "cell_type": "code",
   "execution_count": 772,
   "metadata": {},
   "outputs": [],
   "source": [
    "true_labels, predicted_labels = conllReader(\"en.out.gaz.txt\")"
   ]
  },
  {
   "cell_type": "code",
   "execution_count": 773,
   "metadata": {},
   "outputs": [
    {
     "name": "stdout",
     "output_type": "stream",
     "text": [
      "F1 Score is\n",
      "0.6121690664189503 \n",
      "\n",
      "Classification report\n",
      "              precision    recall  f1-score   support\n",
      "\n",
      "        CORP       0.76      0.46      0.57       193\n",
      "          CW       0.38      0.18      0.24       176\n",
      "         GRP       0.72      0.59      0.65       190\n",
      "         LOC       0.65      0.58      0.62       234\n",
      "         PER       0.82      0.83      0.83       290\n",
      "        PROD       0.74      0.34      0.47       147\n",
      "\n",
      "   micro avg       0.71      0.54      0.61      1230\n",
      "   macro avg       0.68      0.50      0.56      1230\n",
      "weighted avg       0.69      0.54      0.59      1230\n",
      "\n"
     ]
    }
   ],
   "source": [
    "print('F1 Score is')\n",
    "print( f1_score(true_labels, predicted_labels) ,'\\n')\n",
    "\n",
    "print('Classification report')\n",
    "print( classification_report(true_labels, predicted_labels, scheme=IOB1) )"
   ]
  },
  {
   "cell_type": "code",
   "execution_count": 774,
   "metadata": {},
   "outputs": [
    {
     "data": {
      "text/plain": [
       "<sklearn.metrics._plot.confusion_matrix.ConfusionMatrixDisplay at 0x7fb31979ce20>"
      ]
     },
     "execution_count": 774,
     "metadata": {},
     "output_type": "execute_result"
    },
    {
     "data": {
      "image/png": "[encoded data removed]",
      "text/plain": [
       "<Figure size 720x720 with 2 Axes>"
      ]
     },
     "metadata": {},
     "output_type": "display_data"
    }
   ],
   "source": [
    "cm = confusion_matrix(mlb.fit_transform(true_labels).argmax(axis=1), mlb.fit_transform(predicted_labels).argmax(axis=1))\n",
    "\n",
    "cm_display = ConfusionMatrixDisplay(cm)\n",
    "\n",
    "fig, ax = plt.subplots()\n",
    "fig.set_figheight(10)\n",
    "fig.set_figwidth(10)\n",
    "\n",
    "cmd.plot(xticks_rotation='vertical', ax =ax)"
   ]
  },
  {
   "cell_type": "markdown",
   "metadata": {},
   "source": [
    "## Adding PoS Tag feature with the Gazetteer Feature"
   ]
  },
  {
   "cell_type": "code",
   "execution_count": 775,
   "metadata": {
    "tags": []
   },
   "outputs": [],
   "source": [
    "# Every word is represented by a set of features. CRF allows us to give any arbitrary set of features\n",
    "def word2featuresposGaz(sent, i, personGaz):\n",
    "    word = sent[i][0]\n",
    "    postag = sent[i][2]\n",
    "    features = [\n",
    "        'word[-3:]=' + word[-3:],\n",
    "        'word[-2:]=' + word[-2:],\n",
    "        'word.isdigit=%s' % word.isdigit(),\n",
    "        'postag=' + postag,\n",
    "        'postag[:2]=' + postag[:2],\n",
    "        'word.ispersongaz=%s' % (word in personGaz),\n",
    "    ]\n",
    "    if i > 0:\n",
    "        word1 = sent[i-1][0]\n",
    "        postag1 = sent[i-1][2]\n",
    "        features.extend([\n",
    "            '-1:word=' + word1,\n",
    "            '-1:postag=' + postag1,\n",
    "            '-1:postag[:2]=' + postag1[:2]\n",
    "        ])\n",
    "    else:\n",
    "        features.append('BOS')\n",
    "        \n",
    "    if i < len(sent)-1:\n",
    "        word1 = sent[i+1][0]\n",
    "        postag1 = sent[i+1][2]\n",
    "        features.extend([\n",
    "            '+1:word=' + word1,\n",
    "            '+1:postag=' + postag1,\n",
    "            '+1:postag[:2]=' + postag1[:2]\n",
    "        ])\n",
    "    else:\n",
    "        features.append('EOS')\n",
    "                \n",
    "    return features\n",
    "\n",
    "def sent2featuresposGaz(sent, personGaz, postagger):\n",
    "    tagged = postagger.tag(sent2features(sent))\n",
    "    sentNew = [word_nelabel+(pos, ) for word_nelabel,pos in zip(sent, tagged)]\n",
    "    return [word2featuresposGaz(sentNew, i, personGaz) for i in range(len(sentNew))]\n",
    "\n",
    "def sent2labels(sent):\n",
    "    return [label for token, label in sent]"
   ]
  },
  {
   "cell_type": "code",
   "execution_count": 776,
   "metadata": {},
   "outputs": [],
   "source": [
    "X_train_pos_gaz = [sent2featuresposGaz(s, personGazetteer, postagger) for s in train_corpus]\n",
    "y_train_pos_gaz = [sent2labels(s) for s in train_corpus]\n",
    "\n",
    "X_test_pos_gaz = [sent2featuresposGaz(s, personGazetteer,postagger) for s in test_corpus]\n",
    "y_test_pos_gaz = [sent2labels(s) for s in test_corpus]"
   ]
  },
  {
   "cell_type": "code",
   "execution_count": 777,
   "metadata": {
    "tags": []
   },
   "outputs": [],
   "source": [
    "trainerposgaz = pycrfsuite.Trainer(verbose=False)\n",
    "\n",
    "for xseq, yseq in zip(X_train_pos_gaz, y_train_pos_gaz):\n",
    "    trainerposgaz.append(xseq, yseq)"
   ]
  },
  {
   "cell_type": "code",
   "execution_count": 778,
   "metadata": {
    "tags": []
   },
   "outputs": [],
   "source": [
    "trainerposgaz.set_params({\n",
    "    'c1': 1.0,   # coefficient for L1 penalty\n",
    "    'c2': 1e-3,  # coefficient for L2 penalty\n",
    "    'max_iterations': 150,  # stop earlier\n",
    "\n",
    "    # include transitions that are possible, but not observed\n",
    "    'feature.possible_transitions': True\n",
    "})"
   ]
  },
  {
   "cell_type": "code",
   "execution_count": 779,
   "metadata": {
    "tags": []
   },
   "outputs": [
    {
     "name": "stdout",
     "output_type": "stream",
     "text": [
      "CPU times: user 34.6 s, sys: 3.64 ms, total: 34.6 s\n",
      "Wall time: 34.7 s\n"
     ]
    }
   ],
   "source": [
    "%%time\n",
    "trainerposgaz.train('en-pos-gaz.crfsuite')"
   ]
  },
  {
   "cell_type": "code",
   "execution_count": 780,
   "metadata": {},
   "outputs": [
    {
     "data": {
      "text/plain": [
       "<contextlib.closing at 0x7fb3193001c0>"
      ]
     },
     "execution_count": 780,
     "metadata": {},
     "output_type": "execute_result"
    }
   ],
   "source": [
    "taggerposgaz = pycrfsuite.Tagger()\n",
    "taggerposgaz.open('en-pos-gaz.crfsuite')"
   ]
  },
  {
   "cell_type": "code",
   "execution_count": 781,
   "metadata": {
    "tags": []
   },
   "outputs": [
    {
     "name": "stdout",
     "output_type": "stream",
     "text": [
      "CPU times: user 52.2 ms, sys: 987 µs, total: 53.2 ms\n",
      "Wall time: 52.7 ms\n"
     ]
    }
   ],
   "source": [
    "%%time\n",
    "y_pred_pos_gaz = [taggerposgaz.tag(xseq) for xseq in X_test_pos_gaz]"
   ]
  },
  {
   "cell_type": "code",
   "execution_count": 782,
   "metadata": {
    "tags": []
   },
   "outputs": [],
   "source": [
    "with codecs.open('en.out.pos.gaz.txt', 'w') as out_file:\n",
    "    for every_sent,pred_label in zip(test_corpus, y_pred_pos_gaz):\n",
    "        for every_word_correct_label,predicted_label in zip(every_sent, pred_label):\n",
    "            out_file.write(every_word_correct_label[0] + \"\\t\" + every_word_correct_label[1] + \"\\t\" + predicted_label)\n",
    "            out_file.write(\"\\n\")\n",
    "        out_file.write(\"\\n\")"
   ]
  },
  {
   "cell_type": "code",
   "execution_count": 783,
   "metadata": {},
   "outputs": [],
   "source": [
    "true_labels, predicted_labels = conllReader(\"en.out.pos.gaz.txt\")"
   ]
  },
  {
   "cell_type": "code",
   "execution_count": 784,
   "metadata": {},
   "outputs": [
    {
     "name": "stdout",
     "output_type": "stream",
     "text": [
      "F1 Score is\n",
      "0.6131591227251516 \n",
      "\n",
      "Classification report\n",
      "              precision    recall  f1-score   support\n",
      "\n",
      "        CORP       0.79      0.48      0.60       193\n",
      "          CW       0.41      0.17      0.24       176\n",
      "         GRP       0.75      0.59      0.66       190\n",
      "         LOC       0.65      0.59      0.62       234\n",
      "         PER       0.81      0.81      0.81       290\n",
      "        PROD       0.70      0.33      0.44       147\n",
      "\n",
      "   micro avg       0.72      0.53      0.61      1230\n",
      "   macro avg       0.68      0.50      0.56      1230\n",
      "weighted avg       0.70      0.53      0.59      1230\n",
      "\n"
     ]
    }
   ],
   "source": [
    "print('F1 Score is')\n",
    "print( f1_score(true_labels, predicted_labels) ,'\\n')\n",
    "\n",
    "print('Classification report')\n",
    "print( classification_report(true_labels, predicted_labels, scheme=IOB1) )"
   ]
  },
  {
   "cell_type": "code",
   "execution_count": 785,
   "metadata": {},
   "outputs": [
    {
     "data": {
      "text/plain": [
       "<sklearn.metrics._plot.confusion_matrix.ConfusionMatrixDisplay at 0x7fb31979ce20>"
      ]
     },
     "execution_count": 785,
     "metadata": {},
     "output_type": "execute_result"
    },
    {
     "data": {
      "image/png": "[encoded data removed]",
      "text/plain": [
       "<Figure size 720x720 with 2 Axes>"
      ]
     },
     "metadata": {},
     "output_type": "display_data"
    }
   ],
   "source": [
    "cm = confusion_matrix(mlb.fit_transform(true_labels).argmax(axis=1), mlb.fit_transform(predicted_labels).argmax(axis=1))\n",
    "\n",
    "cm_display = ConfusionMatrixDisplay(cm)\n",
    "\n",
    "fig, ax = plt.subplots()\n",
    "fig.set_figheight(10)\n",
    "fig.set_figwidth(10)\n",
    "\n",
    "cmd.plot(xticks_rotation='vertical', ax =ax)"
   ]
  },
  {
   "cell_type": "markdown",
   "metadata": {},
   "source": [
    "## Plotting the relation between values of c1, c2, maximum no. of iterations, and F1 Scores "
   ]
  },
  {
   "cell_type": "code",
   "execution_count": 786,
   "metadata": {},
   "outputs": [
    {
     "data": {
      "image/png": "[encoded data removed]",
      "text/plain": [
       "<Figure size 576x576 with 20 Axes>"
      ]
     },
     "metadata": {},
     "output_type": "display_data"
    }
   ],
   "source": [
    "# Using PairPlot to visualize the bivariate relations\n",
    "df = pd.DataFrame({'c1_values': [0.1, 0.1, 0.8, 0.5, 0.5, 0.7, 0.9, 0.2, 0.3, 0.2],\n",
    "                   'c2_values': [0.1, 0.02, 0.8, 0.1, 0.01, 0.5, 0.1, 0.001, 0.03, 0.1],\n",
    "                   'max_iterations': [100, 60, 90, 75, 75, 75, 100, 60, 300, 100],\n",
    "                   'F1_Scores': [62.0212, 61.5032, 61.2364, 61.3296, 62.4245, 61.3159, 62.9876, 63.8875, 63.4521, 61.0897]})\n",
    "sns.pairplot(df,\n",
    "             diag_kind=\"kde\",\n",
    "             height=2\n",
    "             )\n",
    "plt.show()"
   ]
  },
  {
   "cell_type": "markdown",
   "metadata": {},
   "source": [
    "---\n",
    "---"
   ]
  },
  {
   "cell_type": "code",
   "execution_count": null,
   "metadata": {},
   "outputs": [],
   "source": []
  }
 ],
 "metadata": {
  "anaconda-cloud": {},
  "interpreter": {
   "hash": "7553fb56ab976ad5aff909b9ab0e5f0d2a23e397f8c044edf0a757925c0fad4d"
  },
  "kernelspec": {
   "display_name": "Python 3",
   "language": "python",
   "name": "python3"
  },
  "language_info": {
   "codemirror_mode": {
    "name": "ipython",
    "version": 3
   },
   "file_extension": ".py",
   "mimetype": "text/x-python",
   "name": "python",
   "nbconvert_exporter": "python",
   "pygments_lexer": "ipython3",
   "version": "3.9.9"
  }
 },
 "nbformat": 4,
 "nbformat_minor": 4
}
