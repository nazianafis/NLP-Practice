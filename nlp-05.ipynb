{
 "cells": [
  {
   "cell_type": "markdown",
   "metadata": {},
   "source": [
    "\n",
    "## Words as Feature Vectors\n",
    "First, let's look at some text collections directly available in [NLTK](https://www.nltk.org).\n",
    "\n",
    "To explore all the available Corpora in NLTK we need to run a command and list the available resources, after we have downloaded them. The documentation on NLTK's [website](https://www.nltk.org/book/ch02.html) will give more details on each Corpus.\n",
    "\n",
    "There are many interesting collections such as: the Gutenberg collection of books, the  Brown collection of news, novels and other stories, and the USA presidential inaugural speeches.\n",
    "\n",
    "Let's start by downloading the resources. NLTK's `download()` command will launch a GUI, or a CLI to let you select the data you want to install.\n",
    "\n",
    "**Use it to download the `inaugural` Corpus.**"
   ]
  },
  {
   "cell_type": "code",
   "execution_count": 2,
   "metadata": {},
   "outputs": [
    {
     "name": "stderr",
     "output_type": "stream",
     "text": [
      "[nltk_data] Downloading package inaugural to /home/nn007/nltk_data...\n",
      "[nltk_data]   Package inaugural is already up-to-date!\n"
     ]
    },
    {
     "data": {
      "text/plain": [
       "True"
      ]
     },
     "execution_count": 2,
     "metadata": {},
     "output_type": "execute_result"
    }
   ],
   "source": [
    "import nltk\n",
    "\n",
    "nltk.download('inaugural')"
   ]
  },
  {
   "cell_type": "markdown",
   "metadata": {},
   "source": [
    "Now we should be able to list the downloaded resources as well."
   ]
  },
  {
   "cell_type": "code",
   "execution_count": 3,
   "metadata": {},
   "outputs": [
    {
     "name": "stdout",
     "output_type": "stream",
     "text": [
      "['words.zip', 'words', 'stopwords.zip', 'stopwords', 'wordnet.zip', 'wordnet', 'omw-1.4.zip', 'omw-1.4', 'inaugural.zip', 'inaugural']\n"
     ]
    }
   ],
   "source": [
    "import os\n",
    "\n",
    "print(os.listdir(nltk.data.find(\"corpora\")))"
   ]
  },
  {
   "cell_type": "markdown",
   "metadata": {},
   "source": [
    "So to start with, let's experiment with the USA Presidential inaugural speeches."
   ]
  },
  {
   "cell_type": "code",
   "execution_count": 4,
   "metadata": {},
   "outputs": [
    {
     "name": "stdout",
     "output_type": "stream",
     "text": [
      "['1789-Washington.txt', '1793-Washington.txt', '1797-Adams.txt', '1801-Jefferson.txt', '1805-Jefferson.txt', '1809-Madison.txt', '1813-Madison.txt', '1817-Monroe.txt', '1821-Monroe.txt', '1825-Adams.txt', '1829-Jackson.txt', '1833-Jackson.txt', '1837-VanBuren.txt', '1841-Harrison.txt', '1845-Polk.txt', '1849-Taylor.txt', '1853-Pierce.txt', '1857-Buchanan.txt', '1861-Lincoln.txt', '1865-Lincoln.txt', '1869-Grant.txt', '1873-Grant.txt', '1877-Hayes.txt', '1881-Garfield.txt', '1885-Cleveland.txt', '1889-Harrison.txt', '1893-Cleveland.txt', '1897-McKinley.txt', '1901-McKinley.txt', '1905-Roosevelt.txt', '1909-Taft.txt', '1913-Wilson.txt', '1917-Wilson.txt', '1921-Harding.txt', '1925-Coolidge.txt', '1929-Hoover.txt', '1933-Roosevelt.txt', '1937-Roosevelt.txt', '1941-Roosevelt.txt', '1945-Roosevelt.txt', '1949-Truman.txt', '1953-Eisenhower.txt', '1957-Eisenhower.txt', '1961-Kennedy.txt', '1965-Johnson.txt', '1969-Nixon.txt', '1973-Nixon.txt', '1977-Carter.txt', '1981-Reagan.txt', '1985-Reagan.txt', '1989-Bush.txt', '1993-Clinton.txt', '1997-Clinton.txt', '2001-Bush.txt', '2005-Bush.txt', '2009-Obama.txt', '2013-Obama.txt', '2017-Trump.txt', '2021-Biden.txt']\n"
     ]
    }
   ],
   "source": [
    "from nltk.corpus import inaugural\n",
    "print(inaugural.fileids())"
   ]
  },
  {
   "cell_type": "markdown",
   "metadata": {},
   "source": [
    "Lets print Trump's one!"
   ]
  },
  {
   "cell_type": "code",
   "execution_count": 5,
   "metadata": {},
   "outputs": [
    {
     "name": "stdout",
     "output_type": "stream",
     "text": [
      "Chief Justice Roberts, President Carter, President Clinton, President Bush, President Obama, fellow Americans, and people of the world: Thank you.\n",
      "\n",
      "We, the citizens of America, are now joined in a great national effort to rebuild our country and restore its promise for all of our people. Together, we will determine the course of America and the world for many, many years to come. We will face challenges, we will confront hardships, but we will get the job done.\n",
      "\n",
      "Every 4 years, we gather on these steps to carry out the orderly and peaceful transfer of power, and we are grateful to President Obama and First Lady Michelle Obama for their gracious aid throughout this transition. They have been magnificent. Thank you.\n",
      "\n",
      "Today's ceremony, however, has very special meaning. Because today we are not merely transferring power from one administration to another or from one party to another, but we are transferring power from Washington, DC, and giving it back to you, the people.\n",
      "\n",
      "For too long, a small group in our Nation's Capital has reaped the rewards of Government while the people have borne the cost. Washington flourished, but the people did not share in its wealth. Politicians prospered, but the jobs left, and the factories closed. The establishment protected itself, but not the citizens of our country. Their victories have not been your victories; their triumphs have not been your triumphs; and while they celebrated in our Nation's Capital, there was little to celebrate for struggling families all across our land.\n",
      "\n",
      "That all changes, starting right here and right now, because this moment is your moment: It belongs to you. It belongs to everyone gathered here today and everyone watching all across America. This is your day. This is your celebration. And this, the United States of America, is your country.\n",
      "\n",
      "What truly matters is not which party controls our Government, but whether our Government is controlled by the people. January 20, 2017, will be remembered as the day the people became the rulers of this Nation again. The forgotten men and women of our country will be forgotten no longer. Everyone is listening to you now.\n",
      "\n",
      "You came by the tens of millions to become part of a historic movement the likes of which the world has never seen before. At the center of this movement is a crucial conviction: that a nation exists to serve its citizens. Americans want great schools for their children, safe neighborhoods for their families, and good jobs for themselves. These are just and reasonable demands of righteous people and a righteous public.\n",
      "\n",
      "But for too many of our citizens, a different reality exists: Mothers and children trapped in poverty in our inner cities; rusted-out factories scattered like tombstones across the landscape of our Nation; an education system, flush with cash, but which leaves our young and beautiful students deprived of all knowledge; and the crime and the gangs and the drugs that have stolen too many lives and robbed our country of so much unrealized potential.\n",
      "\n",
      "This American carnage stops right here and stops right now. We are one Nation, and their pain is our pain, their dreams are our dreams, and their success will be our success. We share one heart, one home, and one glorious destiny.\n",
      "\n",
      "The oath of office I take today is an oath of allegiance to all Americans.\n",
      "\n",
      "For many decades, we've enriched foreign industry at the expense of American industry, subsidized the armies of other countries while allowing for the very sad depletion of our military. We've defended other nations' borders while refusing to defend our own and spent trillions and trillions of dollars overseas while America's infrastructure has fallen into disrepair and decay. We've made other countries rich while the wealth, strength, and confidence of our country has dissipated over the horizon.\n",
      "\n",
      "One by one, the factories shuttered and left our shores, with not even a thought about the millions and millions of American workers that were left behind. The wealth of our middle class has been ripped from their homes and then redistributed all across the world.\n",
      "\n",
      "But that is the past. And now we are looking only to the future.\n",
      "\n",
      "We, assembled here today, are issuing a new decree to be heard in every city, in every foreign capital, and in every hall of power. From this day forward, a new vision will govern our land. From this this day forward, it's going to be only America first. America first.\n",
      "\n",
      "Every decision on trade, on taxes, on immigration, on foreign affairs, will be made to benefit American workers and American families.\n",
      "\n",
      "We must protect our borders from the ravages of other countries making our products, stealing our companies, and destroying our jobs. Protection will lead to great prosperity and strength. I will fight for you with every breath in my body, and I will never, ever let you down.\n",
      "\n",
      "America will start winning again, winning like never before. We will bring back our jobs. We will bring back our borders. We will bring back our wealth. And we will bring back our dreams.\n",
      "\n",
      "We will build new roads and highways and bridges and airports and tunnels and railways all across our wonderful Nation.\n",
      "\n",
      "We will get our people off of welfare and back to work, rebuilding our country with American hands and American labor. We will follow two simple rules: Buy American and hire American.\n",
      "\n",
      "We will seek friendship and good will with the nations of the world, but we do so with the understanding that it is the right of all nations to put their own interests first. We do not seek to impose our way of life on anyone, but rather to let it shine as an exampleâwe will shineâfor everyone to follow.\n",
      "\n",
      "We will reinforce old alliances and form new ones and unite the civilized world against radical Islamic terrorism, which we will eradicate completely from the face of the Earth.\n",
      "\n",
      "At the bedrock of our politics will be a total allegiance to the United States of America, and through our loyalty to our country, we will rediscover our loyalty to each other. When you open your heart to patriotism, there is no room for prejudice. The Bible tells us, \"How good and pleasant it is when God's people live together in unity.\" We must speak our minds openly, debate our disagreements honestly, but always pursue solidarity. When America is united, America is totally unstoppable. There should be no fear: We are protected, and we will always be protected. We will be protected by the great men and women of our military and law enforcement, and most importantly, we will be protected by God.\n",
      "\n",
      "Finally, we must think big and dream even bigger. In America, we understand that a nation is only living as long as it is striving.\n",
      "\n",
      "We will no longer accept politicians who are all talk and no action, constantly complaining, but never doing anything about it. The time for empty talk is over. Now arrives the hour of action.\n",
      "\n",
      "Do not allow anyone to tell you that it cannot be done. No challenge can match the heart and fight and spirit of America. We will not fail. Our country will thrive and prosper again.\n",
      "\n",
      "We stand at the birth of a new millennium, ready to unlock the mysteries of space, to free the Earth from the miseries of disease, and to harness the energies, industries, and technologies of tomorrow. A new national pride will stir our souls, lift our sights, and heal our divisions.\n",
      "\n",
      "It's time to remember that old wisdom our soldiers will never forget: that whether we are Black or Brown or White, we all bleed the same red blood of patriots, we all enjoy the same glorious freedoms, and we all salute the same great American flag.\n",
      "\n",
      "And whether a child is born in the urban sprawl of Detroit or the windswept plains of Nebraska, they look up at the same night sky, they fill their heart with the same dreams, and they are infused with the breath of life by the same almighty Creator.\n",
      "\n",
      "So to all Americans in every city near and far, small and large, from mountain to mountain, from ocean to ocean, hear these words: You will never be ignored again. Your voice, your hopes, and your dreams will define our American destiny. And your courage and goodness and love will forever guide us along the way.\n",
      "\n",
      "Together, we will make America strong again. We will make America wealthy again. We will make America proud again. We will make America safe again.\n",
      "\n",
      "And, yes, together, we will make America great again. Thank you. God bless you, and God bless America. Thank you. God bless America.\n",
      "\n"
     ]
    }
   ],
   "source": [
    "doc = \"2017-Trump.txt\"\n",
    "print(inaugural.raw(doc))"
   ]
  },
  {
   "cell_type": "markdown",
   "metadata": {},
   "source": [
    "NLTK corpora gives us all the words and sentences as well as other statistics out of the box."
   ]
  },
  {
   "cell_type": "code",
   "execution_count": 6,
   "metadata": {},
   "outputs": [
    {
     "name": "stdout",
     "output_type": "stream",
     "text": [
      "['Chief', 'Justice', 'Roberts', ',', 'President', ...]\n"
     ]
    }
   ],
   "source": [
    "print(inaugural.words(doc))"
   ]
  },
  {
   "cell_type": "code",
   "execution_count": 7,
   "metadata": {},
   "outputs": [
    {
     "name": "stdout",
     "output_type": "stream",
     "text": [
      "[['Chief', 'Justice', 'Roberts', ',', 'President', 'Carter', ',', 'President', 'Clinton', ',', 'President', 'Bush', ',', 'President', 'Obama', ',', 'fellow', 'Americans', ',', 'and', 'people', 'of', 'the', 'world', ':', 'Thank', 'you', '.'], ['We', ',', 'the', 'citizens', 'of', 'America', ',', 'are', 'now', 'joined', 'in', 'a', 'great', 'national', 'effort', 'to', 'rebuild', 'our', 'country', 'and', 'restore', 'its', 'promise', 'for', 'all', 'of', 'our', 'people', '.'], ...]\n"
     ]
    },
    {
     "name": "stderr",
     "output_type": "stream",
     "text": [
      "[nltk_data] Downloading package punkt to /home/nn007/nltk_data...\n",
      "[nltk_data]   Package punkt is already up-to-date!\n"
     ]
    }
   ],
   "source": [
    "nltk.download(\"punkt\")\n",
    "print(inaugural.sents(doc))"
   ]
  },
  {
   "cell_type": "markdown",
   "metadata": {},
   "source": [
    "---\n",
    "## Challenge 01:\n",
    "Given this incomplete function, write the necessary `TODO X` code to let the function return the total number of words and the total number of distinct words, for a given document name in that corpus."
   ]
  },
  {
   "cell_type": "code",
   "execution_count": 8,
   "metadata": {},
   "outputs": [],
   "source": [
    "def calculate_inaugural_stats(doc):\n",
    "    \n",
    "    # TODO 1 - Get the pre-tokenised list of words from the inaugural corpus\n",
    "    doc_words = inaugural.words(doc)\n",
    "\n",
    "    # TODO 2 - Calculate the total number of words\n",
    "    num_words = len(doc_words)\n",
    "\n",
    "    # TODO 3 - Calculate the total number of distinct words (vocabulary)\n",
    "    vocab = len(set(doc_words))\n",
    "\n",
    "    return num_words, vocab"
   ]
  },
  {
   "cell_type": "markdown",
   "metadata": {},
   "source": [
    "Now let's test it!"
   ]
  },
  {
   "cell_type": "code",
   "execution_count": 9,
   "metadata": {},
   "outputs": [
    {
     "name": "stdout",
     "output_type": "stream",
     "text": [
      "Num words in 2017-Trump.txt: 1693\n",
      "Vocabulary size: 582\n"
     ]
    }
   ],
   "source": [
    "def print_inaugural_stats(speech_name):\n",
    "    tokens, vocab = calculate_inaugural_stats(speech_name)\n",
    "    print(f\"Num words in {speech_name}: {tokens}\")\n",
    "    print(f\"Vocabulary size: {vocab}\")\n",
    "\n",
    "print_inaugural_stats(doc)"
   ]
  },
  {
   "cell_type": "markdown",
   "metadata": {},
   "source": [
    "Let's compare Trump's speech against Obama's inaugural speech..."
   ]
  },
  {
   "cell_type": "code",
   "execution_count": 10,
   "metadata": {},
   "outputs": [
    {
     "name": "stdout",
     "output_type": "stream",
     "text": [
      "Num words in 2009-Obama.txt: 2726\n",
      "Vocabulary size: 938\n"
     ]
    }
   ],
   "source": [
    "print_inaugural_stats(\"2009-Obama.txt\")"
   ]
  },
  {
   "cell_type": "markdown",
   "metadata": {},
   "source": [
    "---\n",
    "## Challenge 02:\n",
    "Complete the missing code (`TODO X`) in the function to calculate the average word length (i.e. number of characters per word) of a given document."
   ]
  },
  {
   "cell_type": "code",
   "execution_count": 22,
   "metadata": {},
   "outputs": [],
   "source": [
    "def calculate_inaugural_word_stats(doc):\n",
    "    doc_words = inaugural.words(doc)\n",
    "\n",
    "    total = 0\n",
    "    # TODO 1 - Construct a list that contains the word lengths for each DISTINCT word in the document\n",
    "    for word in list(set(doc_words)):\n",
    "        vocab_lengths = len(word)\n",
    "        total = total + len(word)\n",
    "\n",
    "    # TODO 2 - Find the average word type length\n",
    "    avg_vocab_length = total / len(set(doc_words))\n",
    "\n",
    "    return avg_vocab_length"
   ]
  },
  {
   "cell_type": "markdown",
   "metadata": {},
   "source": [
    "Let's try it!"
   ]
  },
  {
   "cell_type": "code",
   "execution_count": 23,
   "metadata": {},
   "outputs": [
    {
     "name": "stdout",
     "output_type": "stream",
     "text": [
      "Average word length for 2017-Trump.txt: 5.86 characters long\n"
     ]
    }
   ],
   "source": [
    "speech_name = \"2017-Trump.txt\"\n",
    "avg_length = calculate_inaugural_word_stats(speech_name)\n",
    "print(f\"Average word length for {speech_name}: {avg_length:.2f} characters long\")"
   ]
  },
  {
   "cell_type": "markdown",
   "metadata": {},
   "source": [
    "Now it will be interesting to look at the word distribution and see how the last two USA Presidents compare. NLTK again has a nice class with functions for that, `FreqDist`!"
   ]
  },
  {
   "cell_type": "code",
   "execution_count": 13,
   "metadata": {},
   "outputs": [
    {
     "name": "stdout",
     "output_type": "stream",
     "text": [
      "\n",
      "OBAMA\n",
      " [('the', 135), (',', 130), ('and', 111), ('.', 108), ('of', 82), ('to', 70), ('our', 67), ('we', 62), ('that', 49), ('a', 47), ('is', 36), ('in', 25), ('this', 24), ('us', 23), ('for', 23), ('are', 22), (';', 22), ('--', 22), ('but', 20), ('it', 19), ('will', 19), ('on', 17), ('they', 17), ('have', 16), ('not', 16), ('you', 14), ('has', 14), ('who', 14), ('with', 13), (\"'\", 13), ('can', 13), ('nation', 12), ('be', 12), ('s', 12), ('as', 11), ('or', 11), ('those', 11), ('new', 11), ('america', 10), ('their', 10), ('-', 9), ('so', 9), ('these', 9), ('all', 9), ('by', 8), ('been', 8), ('every', 8), ('at', 8), ('because', 8), ('must', 8)]\n",
      "\n",
      "TRUMP\n",
      " [(',', 106), ('.', 89), ('and', 76), ('the', 71), ('we', 50), ('of', 48), ('our', 48), ('will', 43), ('to', 37), ('america', 20), ('is', 20), ('a', 15), ('for', 15), ('you', 14), ('in', 14), ('all', 14), ('are', 13), ('but', 13), ('be', 13), ('their', 11), ('this', 11), (\"'\", 11), ('from', 11), ('it', 11), ('your', 11), ('american', 11), ('people', 10), ('not', 10), ('that', 10), ('country', 9), ('again', 9), (':', 8), ('one', 8), ('nation', 8), ('with', 8), ('every', 7), ('s', 7), ('world', 6), ('now', 6), ('great', 6), ('on', 6), ('has', 6), ('back', 6), ('while', 6), ('by', 6), ('no', 6), ('never', 6), ('new', 6), ('same', 6), ('president', 5)]\n"
     ]
    }
   ],
   "source": [
    "from nltk import FreqDist\n",
    "\n",
    "obama_words = inaugural.words(\"2009-Obama.txt\")\n",
    "trump_words = inaugural.words(\"2017-Trump.txt\")\n",
    "\n",
    "# Construct a frequency distribution over the lowercased words in the document\n",
    "fd_obama = FreqDist(w.lower() for w in obama_words)\n",
    "\n",
    "# Find the top 50 most frequently used words in the speech\n",
    "print(\"\\nOBAMA\\n\", fd_obama.most_common(50))\n",
    "\n",
    "# Construct a frequency distribution over the lowercased words in the document\n",
    "fd_trump = FreqDist(w.lower() for w in trump_words)\n",
    "\n",
    "# Find the top 50 most frequently used words in the speech\n",
    "print(\"\\nTRUMP\\n\", fd_trump.most_common(50))"
   ]
  },
  {
   "cell_type": "markdown",
   "metadata": {},
   "source": [
    "As you might have expected... popular words in Trump's speech are: `will`, `america`, `american`, `people`, `country`, `again`... :-)\n",
    "\n",
    "Now let's plot the distributions!"
   ]
  },
  {
   "cell_type": "code",
   "execution_count": 14,
   "metadata": {},
   "outputs": [
    {
     "data": {
      "image/png": "[encoded data removed]",
      "text/plain": [
       "<Figure size 432x288 with 1 Axes>"
      ]
     },
     "metadata": {
      "needs_background": "light"
     },
     "output_type": "display_data"
    },
    {
     "data": {
      "image/png": "[encoded data removed]",
      "text/plain": [
       "<Figure size 432x288 with 1 Axes>"
      ]
     },
     "metadata": {
      "needs_background": "light"
     },
     "output_type": "display_data"
    },
    {
     "data": {
      "text/plain": [
       "<AxesSubplot:xlabel='Samples', ylabel='Counts'>"
      ]
     },
     "execution_count": 14,
     "metadata": {},
     "output_type": "execute_result"
    }
   ],
   "source": [
    "fd_obama.plot(50)\n",
    "fd_trump.plot(50)"
   ]
  },
  {
   "cell_type": "markdown",
   "metadata": {},
   "source": [
    "Those distributions are \"normal\" and most documents or corpora will follow a very similar curve.\n",
    "\n",
    "Let's compare some word frequencies now between the two Presidents"
   ]
  },
  {
   "cell_type": "code",
   "execution_count": 15,
   "metadata": {},
   "outputs": [
    {
     "name": "stdout",
     "output_type": "stream",
     "text": [
      "Obama -> peace: 4 - america: 10\n",
      "Trump -> peace: 0 - america: 20\n"
     ]
    }
   ],
   "source": [
    "print(f\"Obama -> peace: {fd_obama['peace']} - america: {fd_obama['america']}\")\n",
    "print(f\"Trump -> peace: {fd_trump['peace']} - america: {fd_trump['america']}\")"
   ]
  },
  {
   "cell_type": "markdown",
   "metadata": {},
   "source": [
    "---\n",
    "## Challenge 03:\n",
    "Let's try to build a similar function that calculates the top most frequent words in a document, but using the `Counter` class that we used in the previous lab. Complete the `TODO X` sections."
   ]
  },
  {
   "cell_type": "code",
   "execution_count": 28,
   "metadata": {},
   "outputs": [],
   "source": [
    "from collections import Counter\n",
    "\n",
    "def get_top_freq(doc, k=50):\n",
    "    doc_words = inaugural.words(doc)\n",
    "    \n",
    "    # TODO 1 - Construct a frequency distribution over the words in the document, ensuring all words are lowercase\n",
    "    fd_doc_words = Counter(doc_words)\n",
    "        \n",
    "    # TODO 2 - Find the top x most frequently used words in the document\n",
    "    top_words = fd_doc_words.most_common(k+1)\n",
    "\n",
    "    return top_words"
   ]
  },
  {
   "cell_type": "markdown",
   "metadata": {},
   "source": [
    "Now let's test it!"
   ]
  },
  {
   "cell_type": "code",
   "execution_count": 29,
   "metadata": {},
   "outputs": [
    {
     "name": "stdout",
     "output_type": "stream",
     "text": [
      "Top 50 words for Trump's 2017 speech:\n",
      "[(',', 106), ('.', 89), ('and', 70), ('the', 65), ('of', 48), ('our', 47), ('will', 43), ('to', 37), ('We', 26), ('we', 24), ('America', 20), ('is', 20), ('a', 14), ('all', 14), ('are', 13), ('in', 13), ('for', 13), ('be', 13), ('you', 12), ('but', 11), (\"'\", 11), ('American', 11), ('people', 10), ('their', 10), ('not', 10), ('your', 10), ('country', 9), ('from', 9), ('again', 9), ('that', 9), (':', 8), ('this', 8), ('it', 8), ('with', 8), ('s', 7), ('one', 7), ('world', 6), ('great', 6), ('on', 6), ('has', 6), ('back', 6), ('Nation', 6), ('while', 6), ('The', 6), ('And', 6), ('by', 6), ('never', 6), ('new', 6), ('same', 6), ('President', 5), ('now', 5)]\n"
     ]
    }
   ],
   "source": [
    "print(f\"Top 50 words for Trump's 2017 speech:\\n{get_top_freq('2017-Trump.txt')}\")"
   ]
  },
  {
   "cell_type": "markdown",
   "metadata": {},
   "source": [
    "---\n",
    "## Challenge 04:\n",
    "Now let's try to build a TFIDF feature vector!\n",
    "\n",
    "The first thing is to calculate the Term Frequency (TF).\n",
    "\n",
    "There are different ways to calculate the Term Frequency. Try to implement the formula $tf_{t,d}=\\frac{count(t,d)}{count(d)}$ that we used before in the lecture. Complete the `TODO X` section."
   ]
  },
  {
   "cell_type": "code",
   "execution_count": 18,
   "metadata": {},
   "outputs": [],
   "source": [
    "def calculate_tf(token_count, bow):\n",
    "    tf = {}\n",
    "    num_bow = len(bow)\n",
    "\n",
    "    for token, count in token_count.items():\n",
    "        # TODO - Calculate the term frequency using the formula:\n",
    "        # \"count of term in the document\" / \"total number of words in the document\"\n",
    "        tf[token] = count / num_bow\n",
    "\n",
    "    return tf"
   ]
  },
  {
   "cell_type": "markdown",
   "metadata": {},
   "source": [
    "Let's try it!"
   ]
  },
  {
   "cell_type": "code",
   "execution_count": 19,
   "metadata": {},
   "outputs": [],
   "source": [
    "tokens_01 = inaugural.words(\"2017-Trump.txt\")\n",
    "tokens_02 = inaugural.words(\"2009-Obama.txt\")\n",
    "vocab = set(tokens_01).union(set(tokens_02))\n",
    "\n",
    "def _get_tf(tokens, vocab):\n",
    "    token_count = dict.fromkeys(vocab, 0)\n",
    "    for token in tokens:\n",
    "        token_count[token] += 1\n",
    "    return calculate_tf(token_count, tokens)\n",
    "\n",
    "tf_01 = _get_tf(tokens_01, vocab)\n",
    "tf_02 = _get_tf(tokens_02, vocab)\n"
   ]
  },
  {
   "cell_type": "markdown",
   "metadata": {},
   "source": [
    "---\n",
    "## Challenge 05:\n",
    "Now that we have our term frequency, let's calculate the Inverse Term Frequency (IDF) for a list of documents.\n",
    "\n",
    "We are going to use the original formula here: $\\log{\\frac{N}{n_t}}$, where $N$ is the number of documents and $n_t$ is the number of documents that contain the term $t$. Complete the `TODO X` sections."
   ]
  },
  {
   "cell_type": "code",
   "execution_count": 34,
   "metadata": {},
   "outputs": [],
   "source": [
    "import math\n",
    "\n",
    "def calculate_idf(docs):\n",
    "    N = len(docs)\n",
    "    \n",
    "    # TODO 1 - Initialise a new dictionary with the keys from the documents and the values set to 0; Remember to set the value of each key to 0, or you will see a key error later.\n",
    "    idf = {}\n",
    "    for doc in docs:\n",
    "        idf = dict.fromkeys(doc.keys(), 0)\n",
    "        for word, val in doc.items():\n",
    "            if val > 0:\n",
    "                # TODO 2 - Increase the idf dictionary counter by one\n",
    "                idf[word] += 1 \n",
    "    \n",
    "    for word, val in doc.items():\n",
    "        if val != 0 :\n",
    "            idf[word] = math.log(N / float(val))\n",
    "\n",
    "    return idf"
   ]
  },
  {
   "cell_type": "markdown",
   "metadata": {},
   "source": [
    "Now let's collect all the IDFs."
   ]
  },
  {
   "cell_type": "code",
   "execution_count": 35,
   "metadata": {},
   "outputs": [],
   "source": [
    "tfs = [tf_01, tf_02]\n",
    "idfs = calculate_idf(tfs)"
   ]
  },
  {
   "cell_type": "markdown",
   "metadata": {},
   "source": [
    "---\n",
    "## Challenge 06:\n",
    "And finally... the TFIDF calculation.\n",
    "\n",
    "Calculate the TFIDF for all the documents. Complete the `TODO X` section."
   ]
  },
  {
   "cell_type": "code",
   "execution_count": 36,
   "metadata": {},
   "outputs": [],
   "source": [
    "\n",
    "def calculate_tfidf(tfs, idfs):\n",
    "    tfidf = {}\n",
    "\n",
    "    for word, val in tfs.items():\n",
    "        # TODO - Calculate and store the tfidf\n",
    "        tfidf[word] =  val * idfs[word]\n",
    "\n",
    "    return tfidf"
   ]
  },
  {
   "cell_type": "markdown",
   "metadata": {},
   "source": [
    "Let's test test the TFIDFs!"
   ]
  },
  {
   "cell_type": "code",
   "execution_count": 62,
   "metadata": {},
   "outputs": [
    {
     "name": "stdout",
     "output_type": "stream",
     "text": [
      "Trump: \n",
      "America\t 0.07443771647752366 \n",
      "God\t 0.020656526522097825 \n",
      "peace\t 0.0\n",
      "\n",
      "Obama: \n",
      "America\t 0.023115013572349147 \n",
      "God\t 0.012828869919996924 \n",
      "peace\t 0.010590525945262705\n"
     ]
    }
   ],
   "source": [
    "tfidf_01 = calculate_tfidf(tf_01, idfs)\n",
    "tfidf_02 = calculate_tfidf(tf_02, idfs)\n",
    "\n",
    "print(\"Trump: \\nAmerica\\t\",tfidf_01['America'],\"\\nGod\\t\",tfidf_01['God'],\"\\npeace\\t\",tfidf_01['peace'])\n",
    "\n",
    "print(\"\\nObama: \\nAmerica\\t\",tfidf_02['America'],\"\\nGod\\t\",tfidf_02['God'],\"\\npeace\\t\",tfidf_02['peace'])"
   ]
  },
  {
   "cell_type": "markdown",
   "metadata": {},
   "source": [
    "---\n",
    "## Challenge 07:\n",
    "Let's try it and then visualise it as a DataFrame!\n",
    "\n",
    "Try to fit the two dictionaries into a single DataFrame so that we can visualise it better. Complete the `TODO X` section."
   ]
  },
  {
   "cell_type": "code",
   "execution_count": 63,
   "metadata": {},
   "outputs": [
    {
     "data": {
      "text/html": [
       "<div>\n",
       "<style scoped>\n",
       "    .dataframe tbody tr th:only-of-type {\n",
       "        vertical-align: middle;\n",
       "    }\n",
       "\n",
       "    .dataframe tbody tr th {\n",
       "        vertical-align: top;\n",
       "    }\n",
       "\n",
       "    .dataframe thead th {\n",
       "        text-align: right;\n",
       "    }\n",
       "</style>\n",
       "<table border=\"1\" class=\"dataframe\">\n",
       "  <thead>\n",
       "    <tr style=\"text-align: right;\">\n",
       "      <th></th>\n",
       "      <th>tfidf_01</th>\n",
       "      <th>tfidf_02</th>\n",
       "    </tr>\n",
       "  </thead>\n",
       "  <tbody>\n",
       "    <tr>\n",
       "      <th>DC</th>\n",
       "      <td>0.000000</td>\n",
       "      <td>0.000000</td>\n",
       "    </tr>\n",
       "    <tr>\n",
       "      <th>clouds</th>\n",
       "      <td>0.000000</td>\n",
       "      <td>0.003156</td>\n",
       "    </tr>\n",
       "    <tr>\n",
       "      <th>an</th>\n",
       "      <td>0.013299</td>\n",
       "      <td>0.008259</td>\n",
       "    </tr>\n",
       "    <tr>\n",
       "      <th>remaking</th>\n",
       "      <td>0.000000</td>\n",
       "      <td>0.003156</td>\n",
       "    </tr>\n",
       "    <tr>\n",
       "      <th>Jews</th>\n",
       "      <td>0.000000</td>\n",
       "      <td>0.003156</td>\n",
       "    </tr>\n",
       "    <tr>\n",
       "      <th>...</th>\n",
       "      <td>...</td>\n",
       "      <td>...</td>\n",
       "    </tr>\n",
       "    <tr>\n",
       "      <th>amidst</th>\n",
       "      <td>0.000000</td>\n",
       "      <td>0.003156</td>\n",
       "    </tr>\n",
       "    <tr>\n",
       "      <th>children</th>\n",
       "      <td>0.008866</td>\n",
       "      <td>0.008259</td>\n",
       "    </tr>\n",
       "    <tr>\n",
       "      <th>deceit</th>\n",
       "      <td>0.000000</td>\n",
       "      <td>0.003156</td>\n",
       "    </tr>\n",
       "    <tr>\n",
       "      <th>deserts</th>\n",
       "      <td>0.000000</td>\n",
       "      <td>0.003156</td>\n",
       "    </tr>\n",
       "    <tr>\n",
       "      <th>oath</th>\n",
       "      <td>0.008866</td>\n",
       "      <td>0.008259</td>\n",
       "    </tr>\n",
       "  </tbody>\n",
       "</table>\n",
       "<p>1261 rows × 2 columns</p>\n",
       "</div>"
      ],
      "text/plain": [
       "          tfidf_01  tfidf_02\n",
       "DC        0.000000  0.000000\n",
       "clouds    0.000000  0.003156\n",
       "an        0.013299  0.008259\n",
       "remaking  0.000000  0.003156\n",
       "Jews      0.000000  0.003156\n",
       "...            ...       ...\n",
       "amidst    0.000000  0.003156\n",
       "children  0.008866  0.008259\n",
       "deceit    0.000000  0.003156\n",
       "deserts   0.000000  0.003156\n",
       "oath      0.008866  0.008259\n",
       "\n",
       "[1261 rows x 2 columns]"
      ]
     },
     "execution_count": 63,
     "metadata": {},
     "output_type": "execute_result"
    }
   ],
   "source": [
    "import pandas as pd\n",
    "\n",
    "# TODO\n",
    "df = pd.DataFrame({'tfidf_01':pd.Series(tfidf_01),'tfidf_02':pd.Series(tfidf_02)})\n",
    "df"
   ]
  },
  {
   "cell_type": "markdown",
   "metadata": {},
   "source": [
    "Now we have TFIDF feature vectors!"
   ]
  },
  {
   "cell_type": "markdown",
   "metadata": {},
   "source": [
    "---\n",
    "---\n",
    "# Language Model Experiments\n",
    "Let's play with some popular n-gram language models. We are going to use NLTK again for that and try to predict the sequence of words.\n",
    "\n",
    "First, let's import some libraries."
   ]
  },
  {
   "cell_type": "code",
   "execution_count": 66,
   "metadata": {},
   "outputs": [],
   "source": [
    "from nltk.corpus import gutenberg\n",
    "from nltk.lm import WittenBellInterpolated, MLE, Laplace\n",
    "from nltk.util import ngrams, pad_sequence, everygrams"
   ]
  },
  {
   "cell_type": "markdown",
   "metadata": {},
   "source": [
    "Next we will build a function that performs the prediction based on MLE"
   ]
  },
  {
   "cell_type": "code",
   "execution_count": 67,
   "metadata": {},
   "outputs": [],
   "source": [
    "def build_mle_estimator(doc_name, n):\n",
    "    # Construct a list of lowercase words from the document\n",
    "    words = [w.lower() for w in inaugural.words(doc_name)]\n",
    "    \n",
    "    # generate ngrams\n",
    "    ngrams = list(everygrams(words, max_len=n))\n",
    "\n",
    "    # build ngram language models\n",
    "    lm = MLE(n)\n",
    "    lm.fit([ngrams], vocabulary_text=words)\n",
    "    print(lm.vocab)\n",
    "    \n",
    "    return lm"
   ]
  },
  {
   "cell_type": "markdown",
   "metadata": {},
   "source": [
    "Build the estimator first."
   ]
  },
  {
   "cell_type": "code",
   "execution_count": 68,
   "metadata": {},
   "outputs": [
    {
     "name": "stdout",
     "output_type": "stream",
     "text": [
      "<Vocabulary with cutoff=1 unk_label='<UNK>' and 548 items>\n"
     ]
    }
   ],
   "source": [
    "lm = build_mle_estimator(\"2017-Trump.txt\", 2)"
   ]
  },
  {
   "cell_type": "markdown",
   "metadata": {},
   "source": [
    "Now let's try it!"
   ]
  },
  {
   "cell_type": "code",
   "execution_count": 74,
   "metadata": {},
   "outputs": [
    {
     "name": "stdout",
     "output_type": "stream",
     "text": [
      "\n",
      "Probability of 'first' followed by 'america':\t 0.00000\n",
      "Probability of 'america' followed by 'first':\t 0.10000\n",
      "\n",
      "Probability of 'you' followed by 'thank':\t 0.00000\n",
      "Probability of 'thank' followed by 'you':\t 1.00000\n"
     ]
    }
   ],
   "source": [
    "def print_lm_scores(lm):\n",
    "    \n",
    "    print(f\"\\nProbability of 'first' followed by 'america':\\t {lm.score(word='america', context=['first']):.5f}\")\n",
    "    print(f\"Probability of 'america' followed by 'first':\\t {lm.score(word='first', context=['america']):.5f}\")\n",
    "\n",
    "    print(f\"\\nProbability of 'you' followed by 'thank':\\t {lm.score(word='thank', context=['you']):.5f}\")\n",
    "    print(f\"Probability of 'thank' followed by 'you':\\t {lm.score(word='you', context=['thank']):.5f}\")\n",
    "\n",
    "print_lm_scores(lm)"
   ]
  },
  {
   "cell_type": "markdown",
   "metadata": {},
   "source": [
    "---\n",
    "## Challenge 08\n",
    "Try an add-one Laplace smoothing model instead."
   ]
  },
  {
   "cell_type": "code",
   "execution_count": 75,
   "metadata": {},
   "outputs": [],
   "source": [
    "def build_laplace_estimator(doc_name, n):\n",
    "    \n",
    "    # TODO - Implement a function simlar to `build_mle_estimator` that instead uses an add-one Laplace smoothing model.\n",
    "    # Hint: you might want to check the NLTK documentation (https://www.nltk.org/api/nltk.lm.html) on that!\n",
    "    \n",
    "    # Construct a list of lowercase words from the document\n",
    "    words = [w.lower() for w in inaugural.words(doc_name)]\n",
    "\n",
    "    # generate ngrams\n",
    "    ngrams = list(everygrams(words, max_len=n))\n",
    "\n",
    "    # build ngram language models\n",
    "    lm = Laplace(n)\n",
    "    lm.fit([ngrams], vocabulary_text=words)\n",
    "    print(lm.vocab)\n",
    "    \n",
    "    return lm"
   ]
  },
  {
   "cell_type": "markdown",
   "metadata": {},
   "source": [
    "Build this estimator as well."
   ]
  },
  {
   "cell_type": "code",
   "execution_count": 76,
   "metadata": {},
   "outputs": [
    {
     "name": "stdout",
     "output_type": "stream",
     "text": [
      "<Vocabulary with cutoff=1 unk_label='<UNK>' and 548 items>\n"
     ]
    }
   ],
   "source": [
    "lm2 = build_laplace_estimator('2017-Trump.txt', 2)"
   ]
  },
  {
   "cell_type": "markdown",
   "metadata": {},
   "source": [
    "Now test it and observe any differences in the results."
   ]
  },
  {
   "cell_type": "code",
   "execution_count": 78,
   "metadata": {},
   "outputs": [
    {
     "name": "stdout",
     "output_type": "stream",
     "text": [
      "\n",
      "Probability of 'first' followed by 'america':\t 0.00181\n",
      "Probability of 'america' followed by 'first':\t 0.00528\n",
      "\n",
      "Probability of 'you' followed by 'thank':\t 0.00178\n",
      "Probability of 'thank' followed by 'you':\t 0.00906\n"
     ]
    }
   ],
   "source": [
    "print_lm_scores(lm2)"
   ]
  },
  {
   "cell_type": "markdown",
   "metadata": {},
   "source": [
    "### Observation\n",
    "\n",
    "After adding the Laplace smoothing, we observe that probabilities that were previously zero (such as that of 'first' followed by 'america') have turned to very small values (in this case, 0.001).\n",
    "\n",
    "Also, as a result of this readjustment, other probabilities (eg. 'thank' followed by 'you') have decreased slightly (from 1.000 to 0.009)."
   ]
  },
  {
   "cell_type": "markdown",
   "metadata": {},
   "source": [
    "---\n",
    "---"
   ]
  }
 ],
 "metadata": {
  "kernelspec": {
   "display_name": "Python 3",
   "language": "python",
   "name": "python3"
  },
  "language_info": {
   "codemirror_mode": {
    "name": "ipython",
    "version": 3
   },
   "file_extension": ".py",
   "mimetype": "text/x-python",
   "name": "python",
   "nbconvert_exporter": "python",
   "pygments_lexer": "ipython3",
   "version": "3.9.9"
  }
 },
 "nbformat": 4,
 "nbformat_minor": 5
}
